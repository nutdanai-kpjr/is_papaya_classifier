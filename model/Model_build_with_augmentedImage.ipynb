{
 "cells": [
  {
   "cell_type": "markdown",
   "metadata": {
    "id": "FE7KNzPPVrVV"
   },
   "source": [
    "# Image classification"
   ]
  },
  {
   "cell_type": "markdown",
   "metadata": {
    "id": "zF9uvbXNVrVY"
   },
   "source": [
    "## Import libraries"
   ]
  },
  {
   "cell_type": "code",
   "execution_count": 1,
   "metadata": {
    "execution": {
     "iopub.execute_input": "2021-06-16T19:32:02.065911Z",
     "iopub.status.busy": "2021-06-16T19:32:02.065333Z",
     "iopub.status.idle": "2021-06-16T19:32:03.668090Z",
     "shell.execute_reply": "2021-06-16T19:32:03.667451Z"
    },
    "id": "L1WtoaOHVrVh"
   },
   "outputs": [],
   "source": [
    "import matplotlib.pyplot as plt\n",
    "import numpy as np\n",
    "import os\n",
    "import PIL\n",
    "import tensorflow as tf\n",
    "\n",
    "from tensorflow import keras\n",
    "from tensorflow.keras import layers\n",
    "from tensorflow.keras.models import Sequential"
   ]
  },
  {
   "cell_type": "markdown",
   "metadata": {
    "id": "xyDNn9MbIzfT"
   },
   "source": [
    "## Define some parameters for the loader:"
   ]
  },
  {
   "cell_type": "code",
   "execution_count": 2,
   "metadata": {
    "execution": {
     "iopub.execute_input": "2021-06-16T19:32:03.954602Z",
     "iopub.status.busy": "2021-06-16T19:32:03.953970Z",
     "iopub.status.idle": "2021-06-16T19:32:03.956172Z",
     "shell.execute_reply": "2021-06-16T19:32:03.955587Z"
    },
    "id": "H74l2DoDI2XD"
   },
   "outputs": [],
   "source": [
    "batch_size = 32\n",
    "img_height = 80\n",
    "img_width = 80\n",
    "num_classes = 3"
   ]
  },
  {
   "cell_type": "markdown",
   "metadata": {
    "id": "pFBhRrrEI49z"
   },
   "source": [
    "## Split Dataset (80% Training, 20% Validating)"
   ]
  },
  {
   "cell_type": "code",
   "execution_count": 3,
   "metadata": {
    "execution": {
     "iopub.execute_input": "2021-06-16T19:32:03.960239Z",
     "iopub.status.busy": "2021-06-16T19:32:03.959474Z",
     "iopub.status.idle": "2021-06-16T19:32:05.611564Z",
     "shell.execute_reply": "2021-06-16T19:32:05.611950Z"
    },
    "id": "fIR0kRZiI_AT"
   },
   "outputs": [
    {
     "name": "stdout",
     "output_type": "stream",
     "text": [
      "Found 476 files belonging to 3 classes.\n",
      "Using 381 files for training.\n"
     ]
    }
   ],
   "source": [
    "train_ds = tf.keras.preprocessing.image_dataset_from_directory(\n",
    "#   './augmented',\n",
    "  './training',\n",
    "  validation_split=0.2,\n",
    "  subset=\"training\",\n",
    "  seed=123,\n",
    "  image_size=(img_height, img_width),\n",
    "  batch_size=batch_size)"
   ]
  },
  {
   "cell_type": "code",
   "execution_count": 4,
   "metadata": {
    "execution": {
     "iopub.execute_input": "2021-06-16T19:32:05.616033Z",
     "iopub.status.busy": "2021-06-16T19:32:05.615361Z",
     "iopub.status.idle": "2021-06-16T19:32:05.736858Z",
     "shell.execute_reply": "2021-06-16T19:32:05.736400Z"
    },
    "id": "iscU3UoVJBXj"
   },
   "outputs": [
    {
     "name": "stdout",
     "output_type": "stream",
     "text": [
      "Found 476 files belonging to 3 classes.\n",
      "Using 95 files for validation.\n"
     ]
    }
   ],
   "source": [
    "val_ds = tf.keras.preprocessing.image_dataset_from_directory(\n",
    "#   './augmented',\n",
    "    './training',\n",
    "  validation_split=0.2,\n",
    "  subset=\"validation\",\n",
    "  seed=123,\n",
    "  image_size=(img_height, img_width),\n",
    "  batch_size=batch_size)"
   ]
  },
  {
   "cell_type": "markdown",
   "metadata": {
    "id": "WLQULyAvJC3X"
   },
   "source": [
    "## Show class name"
   ]
  },
  {
   "cell_type": "code",
   "execution_count": 5,
   "metadata": {
    "execution": {
     "iopub.execute_input": "2021-06-16T19:32:05.740561Z",
     "iopub.status.busy": "2021-06-16T19:32:05.740000Z",
     "iopub.status.idle": "2021-06-16T19:32:05.742741Z",
     "shell.execute_reply": "2021-06-16T19:32:05.742325Z"
    },
    "id": "ZHAxkHX5JD3k"
   },
   "outputs": [
    {
     "name": "stdout",
     "output_type": "stream",
     "text": [
      "['Medium', 'Not_Ripe', 'Ripe']\n"
     ]
    }
   ],
   "source": [
    "class_names = train_ds.class_names\n",
    "print(class_names)"
   ]
  },
  {
   "cell_type": "markdown",
   "metadata": {
    "id": "4Dr0at41KcAU"
   },
   "source": [
    "## Configure the dataset for performance\n",
    "\n",
    "Let's make sure to use buffered prefetching so you can yield data from disk without having I/O become blocking. These are two important methods you should use when loading data.\n",
    "\n",
    "`Dataset.cache()` keeps the images in memory after they're loaded off disk during the first epoch. This will ensure the dataset does not become a bottleneck while training your model. If your dataset is too large to fit into memory, you can also use this method to create a performant on-disk cache.\n",
    "\n",
    "`Dataset.prefetch()` overlaps data preprocessing and model execution while training. \n",
    "\n",
    "Interested readers can learn more about both methods, as well as how to cache data to disk in the [data performance guide](https://www.tensorflow.org/guide/data_performance#prefetching)."
   ]
  },
  {
   "cell_type": "code",
   "execution_count": 6,
   "metadata": {
    "execution": {
     "iopub.execute_input": "2021-06-16T19:32:06.460973Z",
     "iopub.status.busy": "2021-06-16T19:32:06.460380Z",
     "iopub.status.idle": "2021-06-16T19:32:06.464389Z",
     "shell.execute_reply": "2021-06-16T19:32:06.463959Z"
    },
    "id": "nOjJSm7DKoZA"
   },
   "outputs": [],
   "source": [
    "AUTOTUNE = tf.data.AUTOTUNE\n",
    "\n",
    "train_ds = train_ds.cache().shuffle(1000).prefetch(buffer_size=AUTOTUNE)\n",
    "val_ds = val_ds.cache().prefetch(buffer_size=AUTOTUNE)"
   ]
  },
  {
   "cell_type": "markdown",
   "metadata": {
    "id": "8GUnmPF4JvEf"
   },
   "source": [
    "## Standardize the data"
   ]
  },
  {
   "cell_type": "markdown",
   "metadata": {
    "id": "e56VXHMWJxYT"
   },
   "source": [
    "The RGB channel values are in the `[0, 255]` range. This is not ideal for a neural network; in general you should seek to make your input values small. Here, you will standardize values to be in the `[0, 1]` range by using a Rescaling layer."
   ]
  },
  {
   "cell_type": "code",
   "execution_count": 7,
   "metadata": {
    "execution": {
     "iopub.execute_input": "2021-06-16T19:32:06.468403Z",
     "iopub.status.busy": "2021-06-16T19:32:06.467856Z",
     "iopub.status.idle": "2021-06-16T19:32:06.473470Z",
     "shell.execute_reply": "2021-06-16T19:32:06.473070Z"
    },
    "id": "PEYxo2CTJvY9"
   },
   "outputs": [],
   "source": [
    "normalization_layer = layers.experimental.preprocessing.Rescaling(1./255)"
   ]
  },
  {
   "cell_type": "markdown",
   "metadata": {
    "id": "8aGpkwFaIw4i"
   },
   "source": [
    "Note: The Keras Preprocessing utilities and layers introduced in this section are currently experimental and may change."
   ]
  },
  {
   "cell_type": "markdown",
   "metadata": {
    "id": "Bl4RmanbJ4g0"
   },
   "source": [
    "There are two ways to use this layer. You can apply it to the dataset by calling map:"
   ]
  },
  {
   "cell_type": "code",
   "execution_count": 8,
   "metadata": {
    "execution": {
     "iopub.execute_input": "2021-06-16T19:32:06.478349Z",
     "iopub.status.busy": "2021-06-16T19:32:06.477806Z",
     "iopub.status.idle": "2021-06-16T19:32:08.048993Z",
     "shell.execute_reply": "2021-06-16T19:32:08.049348Z"
    },
    "id": "X9o9ESaJJ502"
   },
   "outputs": [
    {
     "name": "stdout",
     "output_type": "stream",
     "text": [
      "0.0059803985 0.9664928\n"
     ]
    }
   ],
   "source": [
    "normalized_ds = train_ds.map(lambda x, y: (normalization_layer(x), y))\n",
    "image_batch, labels_batch = next(iter(normalized_ds))\n",
    "first_image = image_batch[0]\n",
    "# Notice the pixels values are now in `[0,1]`.\n",
    "print(np.min(first_image), np.max(first_image)) "
   ]
  },
  {
   "cell_type": "markdown",
   "metadata": {
    "id": "XWEOmRSBJ9J8"
   },
   "source": [
    "Or, you can include the layer inside your model definition, which can simplify deployment. Let's use the second approach here."
   ]
  },
  {
   "cell_type": "markdown",
   "metadata": {
    "id": "XsRk1xCwKZR4"
   },
   "source": [
    "Note: you previously resized images using the `image_size` argument of `image_dataset_from_directory`. If you want to include the resizing logic in your model as well, you can use the [Resizing](https://www.tensorflow.org/api_docs/python/tf/keras/layers/experimental/preprocessing/Resizing) layer."
   ]
  },
  {
   "cell_type": "markdown",
   "metadata": {
    "id": "BDMfYqwmM1C-"
   },
   "source": [
    "## Data augmentation"
   ]
  },
  {
   "cell_type": "code",
   "execution_count": 20,
   "metadata": {
    "execution": {
     "iopub.execute_input": "2021-06-16T19:32:19.982221Z",
     "iopub.status.busy": "2021-06-16T19:32:19.981601Z",
     "iopub.status.idle": "2021-06-16T19:32:20.088707Z",
     "shell.execute_reply": "2021-06-16T19:32:20.089063Z"
    },
    "id": "9J80BAbIMs21"
   },
   "outputs": [],
   "source": [
    "data_augmentation = keras.Sequential(\n",
    "  [\n",
    "    layers.experimental.preprocessing.RandomFlip(\"horizontal\", \n",
    "                                                 input_shape=(img_height, \n",
    "                                                              img_width,\n",
    "                                                              3)),\n",
    "    layers.experimental.preprocessing.RandomRotation(0.2),\n",
    "    layers.experimental.preprocessing.RandomZoom(0.2),\n",
    "  ]\n",
    ")"
   ]
  },
  {
   "cell_type": "markdown",
   "metadata": {
    "id": "ZeD3bXepYKXs"
   },
   "source": [
    "## Build model"
   ]
  },
  {
   "cell_type": "code",
   "execution_count": 31,
   "metadata": {
    "execution": {
     "iopub.execute_input": "2021-06-16T19:32:20.661411Z",
     "iopub.status.busy": "2021-06-16T19:32:20.660779Z",
     "iopub.status.idle": "2021-06-16T19:32:20.798914Z",
     "shell.execute_reply": "2021-06-16T19:32:20.798478Z"
    },
    "id": "2Zeg8zsqXCsm"
   },
   "outputs": [],
   "source": [
    "model = Sequential([\n",
    "  data_augmentation,\n",
    "\n",
    "#   layers.experimental.preprocessing.Rescaling(1./255, input_shape=(img_height,img_width,3)),\n",
    "  layers.experimental.preprocessing.Rescaling(1./255),\n",
    "#   layers.Dense(64, activation='relu',),\n",
    "  layers.Conv2D(16, kernel_size=(3,3), padding='same', activation='relu'),\n",
    "  layers.MaxPooling2D(pool_size=(2,2), strides=2, padding='valid'),\n",
    "  layers.Conv2D(32,  kernel_size=(3,3), padding='same', activation='relu'),\n",
    "  layers.MaxPooling2D(pool_size=(2,2), strides=2, padding='valid'),\n",
    "#   layers.Conv2D(64,  kernel_size=(3,3), padding='same', activation='relu'),\n",
    "#   layers.MaxPooling2D(pool_size=(2,2), strides=2, padding='valid'),\n",
    "#   layers.Conv2D(64, 3, padding='same', activation='relu'),\n",
    "#   layers.MaxPooling2D(),\n",
    "#   layers.Conv2D(128, 3, padding='same', activation='relu'),\n",
    "#   layers.MaxPooling2D(),\n",
    "  layers.Dropout(0.1),\n",
    "  layers.Flatten(),\n",
    "  layers.Dense(128, activation='relu'),\n",
    "  layers.Dense(num_classes)\n",
    "])"
   ]
  },
  {
   "cell_type": "markdown",
   "metadata": {
    "id": "L4nEcuqgZLbi"
   },
   "source": [
    "## Compile and train the model"
   ]
  },
  {
   "cell_type": "code",
   "execution_count": 32,
   "metadata": {
    "execution": {
     "iopub.execute_input": "2021-06-16T19:32:20.804866Z",
     "iopub.status.busy": "2021-06-16T19:32:20.804298Z",
     "iopub.status.idle": "2021-06-16T19:32:20.807628Z",
     "shell.execute_reply": "2021-06-16T19:32:20.807976Z"
    },
    "id": "EvyAINs9ZOmJ"
   },
   "outputs": [],
   "source": [
    "model.compile(optimizer='adam',\n",
    "              loss=tf.keras.losses.SparseCategoricalCrossentropy(from_logits=True),\n",
    "              metrics=['accuracy'])"
   ]
  },
  {
   "cell_type": "code",
   "execution_count": 33,
   "metadata": {
    "execution": {
     "iopub.execute_input": "2021-06-16T19:32:20.812402Z",
     "iopub.status.busy": "2021-06-16T19:32:20.811772Z",
     "iopub.status.idle": "2021-06-16T19:32:20.816634Z",
     "shell.execute_reply": "2021-06-16T19:32:20.816236Z"
    },
    "id": "wWLkKoKjZSoC"
   },
   "outputs": [
    {
     "name": "stdout",
     "output_type": "stream",
     "text": [
      "Model: \"sequential_7\"\n",
      "_________________________________________________________________\n",
      "Layer (type)                 Output Shape              Param #   \n",
      "=================================================================\n",
      "sequential_3 (Sequential)    (None, 80, 80, 3)         0         \n",
      "_________________________________________________________________\n",
      "rescaling_6 (Rescaling)      (None, 80, 80, 3)         0         \n",
      "_________________________________________________________________\n",
      "conv2d_10 (Conv2D)           (None, 80, 80, 16)        448       \n",
      "_________________________________________________________________\n",
      "max_pooling2d_10 (MaxPooling (None, 40, 40, 16)        0         \n",
      "_________________________________________________________________\n",
      "conv2d_11 (Conv2D)           (None, 40, 40, 32)        4640      \n",
      "_________________________________________________________________\n",
      "max_pooling2d_11 (MaxPooling (None, 20, 20, 32)        0         \n",
      "_________________________________________________________________\n",
      "dropout_5 (Dropout)          (None, 20, 20, 32)        0         \n",
      "_________________________________________________________________\n",
      "flatten_5 (Flatten)          (None, 12800)             0         \n",
      "_________________________________________________________________\n",
      "dense_10 (Dense)             (None, 128)               1638528   \n",
      "_________________________________________________________________\n",
      "dense_11 (Dense)             (None, 3)                 387       \n",
      "=================================================================\n",
      "Total params: 1,644,003\n",
      "Trainable params: 1,644,003\n",
      "Non-trainable params: 0\n",
      "_________________________________________________________________\n"
     ]
    }
   ],
   "source": [
    "model.summary()"
   ]
  },
  {
   "cell_type": "code",
   "execution_count": 34,
   "metadata": {
    "execution": {
     "iopub.execute_input": "2021-06-16T19:32:20.820691Z",
     "iopub.status.busy": "2021-06-16T19:32:20.820028Z",
     "iopub.status.idle": "2021-06-16T19:32:36.648463Z",
     "shell.execute_reply": "2021-06-16T19:32:36.648034Z"
    },
    "id": "LWS-vvNaZDag"
   },
   "outputs": [
    {
     "name": "stdout",
     "output_type": "stream",
     "text": [
      "Epoch 1/20\n",
      "12/12 [==============================] - 2s 81ms/step - loss: 1.1563 - accuracy: 0.4751 - val_loss: 0.8976 - val_accuracy: 0.6842\n",
      "Epoch 2/20\n",
      "12/12 [==============================] - 1s 81ms/step - loss: 0.7408 - accuracy: 0.6745 - val_loss: 0.5642 - val_accuracy: 0.7474\n",
      "Epoch 3/20\n",
      "12/12 [==============================] - 1s 74ms/step - loss: 0.5041 - accuracy: 0.7874 - val_loss: 0.3629 - val_accuracy: 0.8526\n",
      "Epoch 4/20\n",
      "12/12 [==============================] - 1s 73ms/step - loss: 0.3728 - accuracy: 0.8661 - val_loss: 0.2979 - val_accuracy: 0.8947\n",
      "Epoch 5/20\n",
      "12/12 [==============================] - 1s 70ms/step - loss: 0.3228 - accuracy: 0.8609 - val_loss: 0.3038 - val_accuracy: 0.8842\n",
      "Epoch 6/20\n",
      "12/12 [==============================] - 1s 71ms/step - loss: 0.2754 - accuracy: 0.9003 - val_loss: 0.2491 - val_accuracy: 0.9263\n",
      "Epoch 7/20\n",
      "12/12 [==============================] - 1s 71ms/step - loss: 0.2846 - accuracy: 0.9081 - val_loss: 0.2469 - val_accuracy: 0.8947\n",
      "Epoch 8/20\n",
      "12/12 [==============================] - 1s 77ms/step - loss: 0.2638 - accuracy: 0.8924 - val_loss: 0.2110 - val_accuracy: 0.9158\n",
      "Epoch 9/20\n",
      "12/12 [==============================] - 1s 74ms/step - loss: 0.2632 - accuracy: 0.9108 - val_loss: 0.2008 - val_accuracy: 0.9158\n",
      "Epoch 10/20\n",
      "12/12 [==============================] - 1s 70ms/step - loss: 0.2069 - accuracy: 0.9081 - val_loss: 0.1817 - val_accuracy: 0.9263\n",
      "Epoch 11/20\n",
      "12/12 [==============================] - 1s 74ms/step - loss: 0.2009 - accuracy: 0.9291 - val_loss: 0.2241 - val_accuracy: 0.9263\n",
      "Epoch 12/20\n",
      "12/12 [==============================] - 1s 75ms/step - loss: 0.1858 - accuracy: 0.9291 - val_loss: 0.1810 - val_accuracy: 0.9263\n",
      "Epoch 13/20\n",
      "12/12 [==============================] - 1s 76ms/step - loss: 0.2028 - accuracy: 0.9186 - val_loss: 0.1527 - val_accuracy: 0.9263\n",
      "Epoch 14/20\n",
      "12/12 [==============================] - 1s 75ms/step - loss: 0.1528 - accuracy: 0.9475 - val_loss: 0.1529 - val_accuracy: 0.9474\n",
      "Epoch 15/20\n",
      "12/12 [==============================] - 1s 70ms/step - loss: 0.1600 - accuracy: 0.9344 - val_loss: 0.2323 - val_accuracy: 0.9053\n",
      "Epoch 16/20\n",
      "12/12 [==============================] - 1s 72ms/step - loss: 0.1995 - accuracy: 0.9186 - val_loss: 0.1548 - val_accuracy: 0.9263\n",
      "Epoch 17/20\n",
      "12/12 [==============================] - 1s 72ms/step - loss: 0.2054 - accuracy: 0.9213 - val_loss: 0.1479 - val_accuracy: 0.9579\n",
      "Epoch 18/20\n",
      "12/12 [==============================] - 1s 73ms/step - loss: 0.1520 - accuracy: 0.9475 - val_loss: 0.2191 - val_accuracy: 0.9368\n",
      "Epoch 19/20\n",
      "12/12 [==============================] - 1s 70ms/step - loss: 0.1540 - accuracy: 0.9449 - val_loss: 0.1729 - val_accuracy: 0.9579\n",
      "Epoch 20/20\n",
      "12/12 [==============================] - 1s 70ms/step - loss: 0.1400 - accuracy: 0.9475 - val_loss: 0.1451 - val_accuracy: 0.9368\n"
     ]
    }
   ],
   "source": [
    "epochs = 20\n",
    "history = model.fit(\n",
    "  train_ds,\n",
    "  validation_data=val_ds,\n",
    "  epochs=epochs\n",
    ")"
   ]
  },
  {
   "cell_type": "markdown",
   "metadata": {
    "id": "Lkdl8VsBbZOu"
   },
   "source": [
    "## Visualize training results\n",
    "\n",
    "After applying data augmentation and Dropout, there is less overfitting than before, and training and validation accuracy are closer aligned. "
   ]
  },
  {
   "cell_type": "code",
   "execution_count": 35,
   "metadata": {
    "execution": {
     "iopub.execute_input": "2021-06-16T19:32:36.685578Z",
     "iopub.status.busy": "2021-06-16T19:32:36.670192Z",
     "iopub.status.idle": "2021-06-16T19:32:36.865510Z",
     "shell.execute_reply": "2021-06-16T19:32:36.865083Z"
    },
    "id": "dduoLfKsZVIA"
   },
   "outputs": [
    {
     "data": {
      "image/png": "[encoded data removed]",
      "text/plain": [
       "<Figure size 576x576 with 2 Axes>"
      ]
     },
     "metadata": {
      "needs_background": "light"
     },
     "output_type": "display_data"
    }
   ],
   "source": [
    "acc = history.history['accuracy']\n",
    "val_acc = history.history['val_accuracy']\n",
    "\n",
    "loss = history.history['loss']\n",
    "val_loss = history.history['val_loss']\n",
    "\n",
    "epochs_range = range(epochs)\n",
    "\n",
    "plt.figure(figsize=(8, 8))\n",
    "plt.subplot(1, 2, 1)\n",
    "plt.plot(epochs_range, acc, label='Training Accuracy')\n",
    "plt.plot(epochs_range, val_acc, label='Validation Accuracy')\n",
    "plt.legend(loc='lower right')\n",
    "plt.title('Training and Validation Accuracy')\n",
    "\n",
    "plt.subplot(1, 2, 2)\n",
    "plt.plot(epochs_range, loss, label='Training Loss')\n",
    "plt.plot(epochs_range, val_loss, label='Validation Loss')\n",
    "plt.legend(loc='upper right')\n",
    "plt.title('Training and Validation Loss')\n",
    "plt.show()"
   ]
  },
  {
   "cell_type": "markdown",
   "metadata": {
    "id": "dtv5VbaVb-3W"
   },
   "source": [
    "## Predict on new data"
   ]
  },
  {
   "cell_type": "markdown",
   "metadata": {
    "id": "10buWpJbcCQz"
   },
   "source": [
    "Finally, let's use our model to classify an image that wasn't included in the training or validation sets."
   ]
  },
  {
   "cell_type": "markdown",
   "metadata": {
    "id": "NKgMZ4bDcHf7"
   },
   "source": [
    "Note: Data augmentation and Dropout layers are inactive at inference time."
   ]
  },
  {
   "cell_type": "code",
   "execution_count": 15,
   "metadata": {
    "execution": {
     "iopub.execute_input": "2021-06-16T19:32:36.872224Z",
     "iopub.status.busy": "2021-06-16T19:32:36.871628Z",
     "iopub.status.idle": "2021-06-16T19:32:37.188776Z",
     "shell.execute_reply": "2021-06-16T19:32:37.189152Z"
    },
    "id": "dC40sRITBSsQ"
   },
   "outputs": [
    {
     "ename": "FileNotFoundError",
     "evalue": "[Errno 2] No such file or directory: 'Testing/Papaya 1.png'",
     "output_type": "error",
     "traceback": [
      "\u001b[0;31m---------------------------------------------------------------------------\u001b[0m",
      "\u001b[0;31mFileNotFoundError\u001b[0m                         Traceback (most recent call last)",
      "\u001b[0;32m<ipython-input-15-f766cd39d3b6>\u001b[0m in \u001b[0;36m<module>\u001b[0;34m\u001b[0m\n\u001b[0;32m----> 1\u001b[0;31m img = keras.preprocessing.image.load_img(\n\u001b[0m\u001b[1;32m      2\u001b[0m     \u001b[0;34m'Testing/Papaya 1.png'\u001b[0m\u001b[0;34m,\u001b[0m \u001b[0mtarget_size\u001b[0m\u001b[0;34m=\u001b[0m\u001b[0;34m(\u001b[0m\u001b[0mimg_height\u001b[0m\u001b[0;34m,\u001b[0m \u001b[0mimg_width\u001b[0m\u001b[0;34m)\u001b[0m\u001b[0;34m\u001b[0m\u001b[0;34m\u001b[0m\u001b[0m\n\u001b[1;32m      3\u001b[0m )\n\u001b[1;32m      4\u001b[0m \u001b[0mimg_array\u001b[0m \u001b[0;34m=\u001b[0m \u001b[0mkeras\u001b[0m\u001b[0;34m.\u001b[0m\u001b[0mpreprocessing\u001b[0m\u001b[0;34m.\u001b[0m\u001b[0mimage\u001b[0m\u001b[0;34m.\u001b[0m\u001b[0mimg_to_array\u001b[0m\u001b[0;34m(\u001b[0m\u001b[0mimg\u001b[0m\u001b[0;34m)\u001b[0m\u001b[0;34m\u001b[0m\u001b[0;34m\u001b[0m\u001b[0m\n\u001b[1;32m      5\u001b[0m \u001b[0mimg_array\u001b[0m \u001b[0;34m=\u001b[0m \u001b[0mtf\u001b[0m\u001b[0;34m.\u001b[0m\u001b[0mexpand_dims\u001b[0m\u001b[0;34m(\u001b[0m\u001b[0mimg_array\u001b[0m\u001b[0;34m,\u001b[0m \u001b[0;36m0\u001b[0m\u001b[0;34m)\u001b[0m \u001b[0;31m# Create a batch\u001b[0m\u001b[0;34m\u001b[0m\u001b[0;34m\u001b[0m\u001b[0m\n",
      "\u001b[0;32m~/opt/anaconda3/lib/python3.8/site-packages/keras/preprocessing/image.py\u001b[0m in \u001b[0;36mload_img\u001b[0;34m(path, grayscale, color_mode, target_size, interpolation)\u001b[0m\n\u001b[1;32m    311\u001b[0m       \u001b[0mValueError\u001b[0m\u001b[0;34m:\u001b[0m \u001b[0;32mif\u001b[0m \u001b[0minterpolation\u001b[0m \u001b[0mmethod\u001b[0m \u001b[0;32mis\u001b[0m \u001b[0;32mnot\u001b[0m \u001b[0msupported\u001b[0m\u001b[0;34m.\u001b[0m\u001b[0;34m\u001b[0m\u001b[0;34m\u001b[0m\u001b[0m\n\u001b[1;32m    312\u001b[0m   \"\"\"\n\u001b[0;32m--> 313\u001b[0;31m   return image.load_img(path, grayscale=grayscale, color_mode=color_mode,\n\u001b[0m\u001b[1;32m    314\u001b[0m                         target_size=target_size, interpolation=interpolation)\n\u001b[1;32m    315\u001b[0m \u001b[0;34m\u001b[0m\u001b[0m\n",
      "\u001b[0;32m~/opt/anaconda3/lib/python3.8/site-packages/keras_preprocessing/image/utils.py\u001b[0m in \u001b[0;36mload_img\u001b[0;34m(path, grayscale, color_mode, target_size, interpolation)\u001b[0m\n\u001b[1;32m    111\u001b[0m         raise ImportError('Could not import PIL.Image. '\n\u001b[1;32m    112\u001b[0m                           'The use of `load_img` requires PIL.')\n\u001b[0;32m--> 113\u001b[0;31m     \u001b[0;32mwith\u001b[0m \u001b[0mopen\u001b[0m\u001b[0;34m(\u001b[0m\u001b[0mpath\u001b[0m\u001b[0;34m,\u001b[0m \u001b[0;34m'rb'\u001b[0m\u001b[0;34m)\u001b[0m \u001b[0;32mas\u001b[0m \u001b[0mf\u001b[0m\u001b[0;34m:\u001b[0m\u001b[0;34m\u001b[0m\u001b[0;34m\u001b[0m\u001b[0m\n\u001b[0m\u001b[1;32m    114\u001b[0m         \u001b[0mimg\u001b[0m \u001b[0;34m=\u001b[0m \u001b[0mpil_image\u001b[0m\u001b[0;34m.\u001b[0m\u001b[0mopen\u001b[0m\u001b[0;34m(\u001b[0m\u001b[0mio\u001b[0m\u001b[0;34m.\u001b[0m\u001b[0mBytesIO\u001b[0m\u001b[0;34m(\u001b[0m\u001b[0mf\u001b[0m\u001b[0;34m.\u001b[0m\u001b[0mread\u001b[0m\u001b[0;34m(\u001b[0m\u001b[0;34m)\u001b[0m\u001b[0;34m)\u001b[0m\u001b[0;34m)\u001b[0m\u001b[0;34m\u001b[0m\u001b[0;34m\u001b[0m\u001b[0m\n\u001b[1;32m    115\u001b[0m         \u001b[0;32mif\u001b[0m \u001b[0mcolor_mode\u001b[0m \u001b[0;34m==\u001b[0m \u001b[0;34m'grayscale'\u001b[0m\u001b[0;34m:\u001b[0m\u001b[0;34m\u001b[0m\u001b[0;34m\u001b[0m\u001b[0m\n",
      "\u001b[0;31mFileNotFoundError\u001b[0m: [Errno 2] No such file or directory: 'Testing/Papaya 1.png'"
     ]
    }
   ],
   "source": [
    "\n",
    "# img = keras.preprocessing.image.load_img(\n",
    "#     'Testing/Papaya 1.png', target_size=(img_height, img_width)\n",
    "# )\n",
    "# img_array = keras.preprocessing.image.img_to_array(img)\n",
    "# img_array = tf.expand_dims(img_array, 0) # Create a batch\n",
    "\n",
    "# predictions = model.predict(img_array)\n",
    "# score = tf.nn.softmax(predictions[0])\n",
    "\n",
    "# print(\n",
    "#     \"This image most likely belongs to {} with a {:.2f} percent confidence.\"\n",
    "#     .format(class_names[np.argmax(score)], 100 * np.max(score))\n",
    "# )"
   ]
  },
  {
   "cell_type": "code",
   "execution_count": null,
   "metadata": {},
   "outputs": [],
   "source": [
    "# model.save(\"model_9Oct_batch32_size64.h5\")"
   ]
  },
  {
   "cell_type": "code",
   "execution_count": 36,
   "metadata": {},
   "outputs": [],
   "source": [
    "model.save(\"model_20Oct_batch32_size64_2.h5\")"
   ]
  },
  {
   "cell_type": "code",
   "execution_count": null,
   "metadata": {},
   "outputs": [],
   "source": []
  }
 ],
 "metadata": {
  "accelerator": "GPU",
  "colab": {
   "collapsed_sections": [],
   "name": "classification.ipynb",
   "toc_visible": true
  },
  "interpreter": {
   "hash": "4b94aa05f0572349e43f310371974d7dbd338544148dc68438d9305d2aa73c30"
  },
  "kernelspec": {
   "display_name": "Python 3",
   "language": "python",
   "name": "python3"
  },
  "language_info": {
   "codemirror_mode": {
    "name": "ipython",
    "version": 3
   },
   "file_extension": ".py",
   "mimetype": "text/x-python",
   "name": "python",
   "nbconvert_exporter": "python",
   "pygments_lexer": "ipython3",
   "version": "3.8.8"
  }
 },
 "nbformat": 4,
 "nbformat_minor": 1
}
