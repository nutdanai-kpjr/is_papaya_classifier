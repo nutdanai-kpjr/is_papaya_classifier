{
 "cells": [
  {
   "cell_type": "code",
   "execution_count": 1,
   "id": "8adabd52",
   "metadata": {},
   "outputs": [],
   "source": [
    "import tensorflow as tf\n",
    "from tensorflow import keras\n",
    "import numpy as np"
   ]
  },
  {
   "cell_type": "code",
   "execution_count": 2,
   "id": "8f181e24",
   "metadata": {},
   "outputs": [],
   "source": [
    "reconstructed_model = keras.models.load_model(\"model_9Oct_batch32_size64.h5\")"
   ]
  },
  {
   "cell_type": "code",
   "execution_count": 3,
   "id": "9deef27a",
   "metadata": {},
   "outputs": [],
   "source": [
    "batch_size = 32\n",
    "img_height = 64\n",
    "img_width = 64\n",
    "class_names=['Medium', 'Not_Ripe', 'Ripe']"
   ]
  },
  {
   "cell_type": "code",
   "execution_count": 4,
   "id": "6cf77dc8",
   "metadata": {},
   "outputs": [
    {
     "name": "stdout",
     "output_type": "stream",
     "text": [
      "This image most likely belongs to Medium with a 99.94 percent confidence.\n"
     ]
    }
   ],
   "source": [
    "img = keras.preprocessing.image.load_img(\n",
    "    'SingleTest/test10.png', target_size=(img_height, img_width)\n",
    ")\n",
    "img_array = keras.preprocessing.image.img_to_array(img)\n",
    "img_array = tf.expand_dims(img_array, 0) # Create a batch\n",
    "\n",
    "predictions = reconstructed_model.predict(img_array)\n",
    "score = tf.nn.softmax(predictions[0])\n",
    "\n",
    "print(\n",
    "    \"This image most likely belongs to {} with a {:.2f} percent confidence.\"\n",
    "    .format(class_names[np.argmax(score)], 100 * np.max(score))\n",
    ")"
   ]
  },
  {
   "cell_type": "code",
   "execution_count": 5,
   "id": "0755336f",
   "metadata": {},
   "outputs": [
    {
     "name": "stdout",
     "output_type": "stream",
     "text": [
      "[2, 2, 1, 2, 1, 2, 0, 2, 2, 2, 2, 0, 2, 2, 2, 1, 1, 1, 2, 2, 1, 0, 2, 0, 1, 1, 2, 2, 1, 2, 2, 1, 1, 1, 2, 0, 2, 0, 1, 1, 1, 0, 2, 1, 1, 1, 2, 2, 2, 2, 2, 1, 1, 1, 1, 0, 1, 1, 2, 1, 1, 1, 2, 1, 1, 2, 2, 2, 2, 2, 2, 2, 2, 1, 2, 1, 1, 2, 1, 2, 1, 1, 1, 1, 1, 2, 0, 1, 1, 0, 1, 1, 2, 2, 2, 2, 2, 1, 0, 1]\n"
     ]
    }
   ],
   "source": [
    "import pandas as pd\n",
    "data = pd.read_csv('TestingResult.csv', header=None)\n",
    "test_result = [data[0][i] for i in range(0,100)]\n",
    "print(test_result)"
   ]
  },
  {
   "cell_type": "code",
   "execution_count": 6,
   "id": "b6c79661",
   "metadata": {},
   "outputs": [
    {
     "name": "stdout",
     "output_type": "stream",
     "text": [
      "70\n",
      "72\n",
      "73\n",
      "87\n",
      "93\n",
      "95\n",
      "['1: Ripe', '2: Ripe', '3: Not_Ripe', '4: Ripe', '5: Not_Ripe', '6: Ripe', '7: Medium', '8: Ripe', '9: Ripe', '10: Ripe', '11: Ripe', '12: Medium', '13: Ripe', '14: Ripe', '15: Ripe', '16: Not_Ripe', '17: Not_Ripe', '18: Not_Ripe', '19: Ripe', '20: Ripe', '21: Not_Ripe', '22: Medium', '23: Ripe', '24: Medium', '25: Not_Ripe', '26: Not_Ripe', '27: Ripe', '28: Ripe', '29: Not_Ripe', '30: Ripe', '31: Ripe', '32: Not_Ripe', '33: Not_Ripe', '34: Not_Ripe', '35: Ripe', '36: Medium', '37: Ripe', '38: Medium', '39: Not_Ripe', '40: Not_Ripe', '41: Not_Ripe', '42: Medium', '43: Ripe', '44: Not_Ripe', '45: Not_Ripe', '46: Not_Ripe', '47: Ripe', '48: Ripe', '49: Ripe', '50: Ripe', '51: Ripe', '52: Not_Ripe', '53: Not_Ripe', '54: Not_Ripe', '55: Not_Ripe', '56: Medium', '57: Not_Ripe', '58: Not_Ripe', '59: Ripe', '60: Not_Ripe', '61: Not_Ripe', '62: Not_Ripe', '63: Ripe', '64: Not_Ripe', '65: Not_Ripe', '66: Ripe', '67: Ripe', '68: Ripe', '69: Ripe', '70: Medium', '71: Ripe', '72: Medium', '73: Medium', '74: Not_Ripe', '75: Ripe', '76: Not_Ripe', '77: Not_Ripe', '78: Ripe', '79: Not_Ripe', '80: Ripe', '81: Not_Ripe', '82: Not_Ripe', '83: Not_Ripe', '84: Not_Ripe', '85: Not_Ripe', '86: Ripe', '87: Not_Ripe', '88: Not_Ripe', '89: Not_Ripe', '90: Medium', '91: Not_Ripe', '92: Not_Ripe', '93: Medium', '94: Ripe', '95: Medium', '96: Ripe', '97: Ripe', '98: Not_Ripe', '99: Medium', '100: Not_Ripe']\n",
      "Efficientcy: 94\n",
      "[2, 2, 1, 2, 1, 2, 0, 2, 2, 2, 2, 0, 2, 2, 2, 1, 1, 1, 2, 2, 1, 0, 2, 0, 1, 1, 2, 2, 1, 2, 2, 1, 1, 1, 2, 0, 2, 0, 1, 1, 1, 0, 2, 1, 1, 1, 2, 2, 2, 2, 2, 1, 1, 1, 1, 0, 1, 1, 2, 1, 1, 1, 2, 1, 1, 2, 2, 2, 2, 0, 2, 0, 0, 1, 2, 1, 1, 2, 1, 2, 1, 1, 1, 1, 1, 2, 1, 1, 1, 0, 1, 1, 0, 2, 0, 2, 2, 1, 0, 1]\n"
     ]
    }
   ],
   "source": [
    "y_pred = []\n",
    "\n",
    "ans=[]\n",
    "count=0\n",
    "for i in range(1,101):\n",
    "    img = keras.preprocessing.image.load_img(\n",
    "        f'Testing/Papaya {i}.png', target_size=(img_height, img_width)\n",
    "    )\n",
    "    img_array = keras.preprocessing.image.img_to_array(img)\n",
    "    img_array = tf.expand_dims(img_array, 0) # Create a batch\n",
    "\n",
    "    predictions = reconstructed_model.predict(img_array)\n",
    "    score = tf.nn.softmax(predictions[0])\n",
    "    if(np.argmax(score)==test_result[i-1]):\n",
    "        count+=1\n",
    "    else:\n",
    "        print(i)\n",
    "        \n",
    "    ans.append(f\"{i}: {class_names[np.argmax(score)]}\")\n",
    "    y_pred.append(np.argmax(score))\n",
    "#     print(\n",
    "#         \"This image most likely belongs to {} with a {:.2f} percent confidence.\"\n",
    "#         .format(class_names[np.argmax(score)], 100 * np.max(score))\n",
    "#     )\n",
    "print(ans)\n",
    "print(f\"Efficientcy: {count}\")\n",
    "\n",
    "print(y_pred)"
   ]
  },
  {
   "cell_type": "code",
   "execution_count": 7,
   "id": "aa568b1f",
   "metadata": {},
   "outputs": [
    {
     "data": {
      "text/plain": [
       "array([[10,  1,  0],\n",
       "       [ 0, 44,  0],\n",
       "       [ 5,  0, 40]])"
      ]
     },
     "execution_count": 7,
     "metadata": {},
     "output_type": "execute_result"
    }
   ],
   "source": [
    "from sklearn.metrics import confusion_matrix\n",
    "\n",
    "confusion_matrix(test_result, y_pred)"
   ]
  },
  {
   "cell_type": "code",
   "execution_count": null,
   "id": "b7efc6cc",
   "metadata": {},
   "outputs": [],
   "source": []
  }
 ],
 "metadata": {
  "kernelspec": {
   "display_name": "Python 3",
   "language": "python",
   "name": "python3"
  },
  "language_info": {
   "codemirror_mode": {
    "name": "ipython",
    "version": 3
   },
   "file_extension": ".py",
   "mimetype": "text/x-python",
   "name": "python",
   "nbconvert_exporter": "python",
   "pygments_lexer": "ipython3",
   "version": "3.8.8"
  }
 },
 "nbformat": 4,
 "nbformat_minor": 5
}
