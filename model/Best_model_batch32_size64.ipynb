{
 "cells": [
  {
   "cell_type": "markdown",
   "metadata": {
    "id": "FE7KNzPPVrVV"
   },
   "source": [
    "# Image classification"
   ]
  },
  {
   "cell_type": "markdown",
   "metadata": {
    "id": "zF9uvbXNVrVY"
   },
   "source": [
    "## Import libraries"
   ]
  },
  {
   "cell_type": "code",
   "execution_count": 1,
   "metadata": {
    "execution": {
     "iopub.execute_input": "2021-06-16T19:32:02.065911Z",
     "iopub.status.busy": "2021-06-16T19:32:02.065333Z",
     "iopub.status.idle": "2021-06-16T19:32:03.668090Z",
     "shell.execute_reply": "2021-06-16T19:32:03.667451Z"
    },
    "id": "L1WtoaOHVrVh"
   },
   "outputs": [],
   "source": [
    "import matplotlib.pyplot as plt\n",
    "import numpy as np\n",
    "import os\n",
    "import PIL\n",
    "import tensorflow as tf\n",
    "\n",
    "from tensorflow import keras\n",
    "from tensorflow.keras import layers\n",
    "from tensorflow.keras.models import Sequential"
   ]
  },
  {
   "cell_type": "markdown",
   "metadata": {
    "id": "xyDNn9MbIzfT"
   },
   "source": [
    "## Define some parameters for the loader:"
   ]
  },
  {
   "cell_type": "code",
   "execution_count": 2,
   "metadata": {
    "execution": {
     "iopub.execute_input": "2021-06-16T19:32:03.954602Z",
     "iopub.status.busy": "2021-06-16T19:32:03.953970Z",
     "iopub.status.idle": "2021-06-16T19:32:03.956172Z",
     "shell.execute_reply": "2021-06-16T19:32:03.955587Z"
    },
    "id": "H74l2DoDI2XD"
   },
   "outputs": [],
   "source": [
    "batch_size = 32\n",
    "img_height = 64\n",
    "img_width = 64\n",
    "num_classes = 3"
   ]
  },
  {
   "cell_type": "markdown",
   "metadata": {
    "id": "pFBhRrrEI49z"
   },
   "source": [
    "## Split Dataset (80% Training, 20% Validating)"
   ]
  },
  {
   "cell_type": "code",
   "execution_count": 3,
   "metadata": {
    "execution": {
     "iopub.execute_input": "2021-06-16T19:32:03.960239Z",
     "iopub.status.busy": "2021-06-16T19:32:03.959474Z",
     "iopub.status.idle": "2021-06-16T19:32:05.611564Z",
     "shell.execute_reply": "2021-06-16T19:32:05.611950Z"
    },
    "id": "fIR0kRZiI_AT"
   },
   "outputs": [
    {
     "name": "stdout",
     "output_type": "stream",
     "text": [
      "Found 2455 files belonging to 2 classes.\n",
      "Using 1964 files for training.\n"
     ]
    }
   ],
   "source": [
    "train_ds = tf.keras.preprocessing.image_dataset_from_directory(\n",
    "  './Training',\n",
    "  validation_split=0.2,\n",
    "  subset=\"training\",\n",
    "  seed=123,\n",
    "  image_size=(img_height, img_width),\n",
    "  batch_size=batch_size)"
   ]
  },
  {
   "cell_type": "code",
   "execution_count": 4,
   "metadata": {
    "execution": {
     "iopub.execute_input": "2021-06-16T19:32:05.616033Z",
     "iopub.status.busy": "2021-06-16T19:32:05.615361Z",
     "iopub.status.idle": "2021-06-16T19:32:05.736858Z",
     "shell.execute_reply": "2021-06-16T19:32:05.736400Z"
    },
    "id": "iscU3UoVJBXj"
   },
   "outputs": [
    {
     "name": "stdout",
     "output_type": "stream",
     "text": [
      "Found 2455 files belonging to 2 classes.\n",
      "Using 491 files for validation.\n"
     ]
    }
   ],
   "source": [
    "val_ds = tf.keras.preprocessing.image_dataset_from_directory(\n",
    "  './Training',\n",
    "  validation_split=0.2,\n",
    "  subset=\"validation\",\n",
    "  seed=123,\n",
    "  image_size=(img_height, img_width),\n",
    "  batch_size=batch_size)"
   ]
  },
  {
   "cell_type": "markdown",
   "metadata": {
    "id": "WLQULyAvJC3X"
   },
   "source": [
    "## Show class name"
   ]
  },
  {
   "cell_type": "code",
   "execution_count": 5,
   "metadata": {
    "execution": {
     "iopub.execute_input": "2021-06-16T19:32:05.740561Z",
     "iopub.status.busy": "2021-06-16T19:32:05.740000Z",
     "iopub.status.idle": "2021-06-16T19:32:05.742741Z",
     "shell.execute_reply": "2021-06-16T19:32:05.742325Z"
    },
    "id": "ZHAxkHX5JD3k"
   },
   "outputs": [
    {
     "name": "stdout",
     "output_type": "stream",
     "text": [
      "['Not_Papaya', 'Papaya']\n"
     ]
    }
   ],
   "source": [
    "class_names = train_ds.class_names\n",
    "print(class_names)"
   ]
  },
  {
   "cell_type": "markdown",
   "metadata": {
    "id": "4Dr0at41KcAU"
   },
   "source": [
    "## Configure the dataset for performance\n",
    "\n",
    "Let's make sure to use buffered prefetching so you can yield data from disk without having I/O become blocking. These are two important methods you should use when loading data.\n",
    "\n",
    "`Dataset.cache()` keeps the images in memory after they're loaded off disk during the first epoch. This will ensure the dataset does not become a bottleneck while training your model. If your dataset is too large to fit into memory, you can also use this method to create a performant on-disk cache.\n",
    "\n",
    "`Dataset.prefetch()` overlaps data preprocessing and model execution while training. \n",
    "\n",
    "Interested readers can learn more about both methods, as well as how to cache data to disk in the [data performance guide](https://www.tensorflow.org/guide/data_performance#prefetching)."
   ]
  },
  {
   "cell_type": "code",
   "execution_count": 6,
   "metadata": {
    "execution": {
     "iopub.execute_input": "2021-06-16T19:32:06.460973Z",
     "iopub.status.busy": "2021-06-16T19:32:06.460380Z",
     "iopub.status.idle": "2021-06-16T19:32:06.464389Z",
     "shell.execute_reply": "2021-06-16T19:32:06.463959Z"
    },
    "id": "nOjJSm7DKoZA"
   },
   "outputs": [],
   "source": [
    "AUTOTUNE = tf.data.AUTOTUNE\n",
    "\n",
    "train_ds = train_ds.cache().shuffle(1000).prefetch(buffer_size=AUTOTUNE)\n",
    "val_ds = val_ds.cache().prefetch(buffer_size=AUTOTUNE)"
   ]
  },
  {
   "cell_type": "markdown",
   "metadata": {
    "id": "8GUnmPF4JvEf"
   },
   "source": [
    "## Standardize the data"
   ]
  },
  {
   "cell_type": "markdown",
   "metadata": {
    "id": "e56VXHMWJxYT"
   },
   "source": [
    "The RGB channel values are in the `[0, 255]` range. This is not ideal for a neural network; in general you should seek to make your input values small. Here, you will standardize values to be in the `[0, 1]` range by using a Rescaling layer."
   ]
  },
  {
   "cell_type": "code",
   "execution_count": 7,
   "metadata": {
    "execution": {
     "iopub.execute_input": "2021-06-16T19:32:06.468403Z",
     "iopub.status.busy": "2021-06-16T19:32:06.467856Z",
     "iopub.status.idle": "2021-06-16T19:32:06.473470Z",
     "shell.execute_reply": "2021-06-16T19:32:06.473070Z"
    },
    "id": "PEYxo2CTJvY9"
   },
   "outputs": [],
   "source": [
    "normalization_layer = layers.experimental.preprocessing.Rescaling(1./255)"
   ]
  },
  {
   "cell_type": "markdown",
   "metadata": {
    "id": "8aGpkwFaIw4i"
   },
   "source": [
    "Note: The Keras Preprocessing utilities and layers introduced in this section are currently experimental and may change."
   ]
  },
  {
   "cell_type": "markdown",
   "metadata": {
    "id": "Bl4RmanbJ4g0"
   },
   "source": [
    "There are two ways to use this layer. You can apply it to the dataset by calling map:"
   ]
  },
  {
   "cell_type": "code",
   "execution_count": 8,
   "metadata": {
    "execution": {
     "iopub.execute_input": "2021-06-16T19:32:06.478349Z",
     "iopub.status.busy": "2021-06-16T19:32:06.477806Z",
     "iopub.status.idle": "2021-06-16T19:32:08.048993Z",
     "shell.execute_reply": "2021-06-16T19:32:08.049348Z"
    },
    "id": "X9o9ESaJJ502"
   },
   "outputs": [
    {
     "name": "stdout",
     "output_type": "stream",
     "text": [
      "0.0 0.99838394\n"
     ]
    }
   ],
   "source": [
    "normalized_ds = train_ds.map(lambda x, y: (normalization_layer(x), y))\n",
    "image_batch, labels_batch = next(iter(normalized_ds))\n",
    "first_image = image_batch[0]\n",
    "# Notice the pixels values are now in `[0,1]`.\n",
    "print(np.min(first_image), np.max(first_image)) "
   ]
  },
  {
   "cell_type": "markdown",
   "metadata": {
    "id": "XWEOmRSBJ9J8"
   },
   "source": [
    "Or, you can include the layer inside your model definition, which can simplify deployment. Let's use the second approach here."
   ]
  },
  {
   "cell_type": "markdown",
   "metadata": {
    "id": "XsRk1xCwKZR4"
   },
   "source": [
    "Note: you previously resized images using the `image_size` argument of `image_dataset_from_directory`. If you want to include the resizing logic in your model as well, you can use the [Resizing](https://www.tensorflow.org/api_docs/python/tf/keras/layers/experimental/preprocessing/Resizing) layer."
   ]
  },
  {
   "cell_type": "markdown",
   "metadata": {
    "id": "BDMfYqwmM1C-"
   },
   "source": [
    "## Data augmentation"
   ]
  },
  {
   "cell_type": "code",
   "execution_count": 9,
   "metadata": {
    "execution": {
     "iopub.execute_input": "2021-06-16T19:32:19.982221Z",
     "iopub.status.busy": "2021-06-16T19:32:19.981601Z",
     "iopub.status.idle": "2021-06-16T19:32:20.088707Z",
     "shell.execute_reply": "2021-06-16T19:32:20.089063Z"
    },
    "id": "9J80BAbIMs21"
   },
   "outputs": [],
   "source": [
    "data_augmentation = keras.Sequential(\n",
    "  [\n",
    "    layers.experimental.preprocessing.RandomFlip(\"horizontal\", \n",
    "                                                 input_shape=(img_height, \n",
    "                                                              img_width,\n",
    "                                                              3)),\n",
    "    layers.experimental.preprocessing.RandomRotation(0.1),\n",
    "    layers.experimental.preprocessing.RandomZoom(0.1),\n",
    "  ]\n",
    ")"
   ]
  },
  {
   "cell_type": "markdown",
   "metadata": {
    "id": "ZeD3bXepYKXs"
   },
   "source": [
    "## Build model"
   ]
  },
  {
   "cell_type": "code",
   "execution_count": 10,
   "metadata": {
    "execution": {
     "iopub.execute_input": "2021-06-16T19:32:20.661411Z",
     "iopub.status.busy": "2021-06-16T19:32:20.660779Z",
     "iopub.status.idle": "2021-06-16T19:32:20.798914Z",
     "shell.execute_reply": "2021-06-16T19:32:20.798478Z"
    },
    "id": "2Zeg8zsqXCsm"
   },
   "outputs": [],
   "source": [
    "model = Sequential([\n",
    "  data_augmentation,\n",
    "  layers.experimental.preprocessing.Rescaling(1./255),\n",
    "  layers.Conv2D(16, 3, padding='same', activation='relu'),\n",
    "  layers.MaxPooling2D(),\n",
    "  layers.Conv2D(32, 3, padding='same', activation='relu'),\n",
    "  layers.MaxPooling2D(),\n",
    "  layers.Conv2D(64, 3, padding='same', activation='relu'),\n",
    "  layers.MaxPooling2D(),\n",
    "  layers.Dropout(0.1),\n",
    "  layers.Flatten(),\n",
    "  layers.Dense(128, activation='relu'),\n",
    "  layers.Dense(num_classes)\n",
    "])"
   ]
  },
  {
   "cell_type": "markdown",
   "metadata": {
    "id": "L4nEcuqgZLbi"
   },
   "source": [
    "## Compile and train the model"
   ]
  },
  {
   "cell_type": "code",
   "execution_count": 11,
   "metadata": {
    "execution": {
     "iopub.execute_input": "2021-06-16T19:32:20.804866Z",
     "iopub.status.busy": "2021-06-16T19:32:20.804298Z",
     "iopub.status.idle": "2021-06-16T19:32:20.807628Z",
     "shell.execute_reply": "2021-06-16T19:32:20.807976Z"
    },
    "id": "EvyAINs9ZOmJ"
   },
   "outputs": [],
   "source": [
    "model.compile(optimizer='adam',\n",
    "              loss=tf.keras.losses.SparseCategoricalCrossentropy(from_logits=True),\n",
    "              metrics=['accuracy'])"
   ]
  },
  {
   "cell_type": "code",
   "execution_count": 12,
   "metadata": {
    "execution": {
     "iopub.execute_input": "2021-06-16T19:32:20.812402Z",
     "iopub.status.busy": "2021-06-16T19:32:20.811772Z",
     "iopub.status.idle": "2021-06-16T19:32:20.816634Z",
     "shell.execute_reply": "2021-06-16T19:32:20.816236Z"
    },
    "id": "wWLkKoKjZSoC"
   },
   "outputs": [
    {
     "name": "stdout",
     "output_type": "stream",
     "text": [
      "Model: \"sequential_1\"\n",
      "_________________________________________________________________\n",
      "Layer (type)                 Output Shape              Param #   \n",
      "=================================================================\n",
      "sequential (Sequential)      (None, 64, 64, 3)         0         \n",
      "_________________________________________________________________\n",
      "rescaling_1 (Rescaling)      (None, 64, 64, 3)         0         \n",
      "_________________________________________________________________\n",
      "conv2d (Conv2D)              (None, 64, 64, 16)        448       \n",
      "_________________________________________________________________\n",
      "max_pooling2d (MaxPooling2D) (None, 32, 32, 16)        0         \n",
      "_________________________________________________________________\n",
      "conv2d_1 (Conv2D)            (None, 32, 32, 32)        4640      \n",
      "_________________________________________________________________\n",
      "max_pooling2d_1 (MaxPooling2 (None, 16, 16, 32)        0         \n",
      "_________________________________________________________________\n",
      "conv2d_2 (Conv2D)            (None, 16, 16, 64)        18496     \n",
      "_________________________________________________________________\n",
      "max_pooling2d_2 (MaxPooling2 (None, 8, 8, 64)          0         \n",
      "_________________________________________________________________\n",
      "dropout (Dropout)            (None, 8, 8, 64)          0         \n",
      "_________________________________________________________________\n",
      "flatten (Flatten)            (None, 4096)              0         \n",
      "_________________________________________________________________\n",
      "dense (Dense)                (None, 128)               524416    \n",
      "_________________________________________________________________\n",
      "dense_1 (Dense)              (None, 3)                 387       \n",
      "=================================================================\n",
      "Total params: 548,387\n",
      "Trainable params: 548,387\n",
      "Non-trainable params: 0\n",
      "_________________________________________________________________\n"
     ]
    }
   ],
   "source": [
    "model.summary()"
   ]
  },
  {
   "cell_type": "code",
   "execution_count": 13,
   "metadata": {
    "execution": {
     "iopub.execute_input": "2021-06-16T19:32:20.820691Z",
     "iopub.status.busy": "2021-06-16T19:32:20.820028Z",
     "iopub.status.idle": "2021-06-16T19:32:36.648463Z",
     "shell.execute_reply": "2021-06-16T19:32:36.648034Z"
    },
    "id": "LWS-vvNaZDag"
   },
   "outputs": [
    {
     "name": "stdout",
     "output_type": "stream",
     "text": [
      "Epoch 1/40\n",
      "62/62 [==============================] - 5s 76ms/step - loss: 0.3734 - accuracy: 0.8391 - val_loss: 0.2023 - val_accuracy: 0.9328\n",
      "Epoch 2/40\n",
      "62/62 [==============================] - 3s 53ms/step - loss: 0.2394 - accuracy: 0.9022 - val_loss: 0.1870 - val_accuracy: 0.9246\n",
      "Epoch 3/40\n",
      "62/62 [==============================] - 3s 54ms/step - loss: 0.2054 - accuracy: 0.9241 - val_loss: 0.1899 - val_accuracy: 0.9348\n",
      "Epoch 4/40\n",
      "62/62 [==============================] - 3s 53ms/step - loss: 0.1956 - accuracy: 0.9267 - val_loss: 0.1584 - val_accuracy: 0.9532\n",
      "Epoch 5/40\n",
      "62/62 [==============================] - 3s 53ms/step - loss: 0.1869 - accuracy: 0.9297 - val_loss: 0.1847 - val_accuracy: 0.9470\n",
      "Epoch 6/40\n",
      "62/62 [==============================] - 3s 54ms/step - loss: 0.1845 - accuracy: 0.9343 - val_loss: 0.2888 - val_accuracy: 0.9104\n",
      "Epoch 7/40\n",
      "62/62 [==============================] - 3s 53ms/step - loss: 0.1647 - accuracy: 0.9394 - val_loss: 0.1624 - val_accuracy: 0.9532\n",
      "Epoch 8/40\n",
      "62/62 [==============================] - 3s 55ms/step - loss: 0.1675 - accuracy: 0.9399 - val_loss: 0.2631 - val_accuracy: 0.9226\n",
      "Epoch 9/40\n",
      "62/62 [==============================] - 3s 56ms/step - loss: 0.1632 - accuracy: 0.9430 - val_loss: 0.1847 - val_accuracy: 0.9369\n",
      "Epoch 10/40\n",
      "62/62 [==============================] - 3s 55ms/step - loss: 0.1536 - accuracy: 0.9435 - val_loss: 0.1494 - val_accuracy: 0.9572\n",
      "Epoch 11/40\n",
      "62/62 [==============================] - 3s 55ms/step - loss: 0.1516 - accuracy: 0.9394 - val_loss: 0.1539 - val_accuracy: 0.9593\n",
      "Epoch 12/40\n",
      "62/62 [==============================] - 3s 56ms/step - loss: 0.1462 - accuracy: 0.9465 - val_loss: 0.1483 - val_accuracy: 0.9532\n",
      "Epoch 13/40\n",
      "62/62 [==============================] - 3s 55ms/step - loss: 0.1423 - accuracy: 0.9440 - val_loss: 0.1641 - val_accuracy: 0.9511\n",
      "Epoch 14/40\n",
      "62/62 [==============================] - 3s 56ms/step - loss: 0.1470 - accuracy: 0.9465 - val_loss: 0.1774 - val_accuracy: 0.9532\n",
      "Epoch 15/40\n",
      "62/62 [==============================] - 3s 56ms/step - loss: 0.1441 - accuracy: 0.9506 - val_loss: 0.1619 - val_accuracy: 0.9593\n",
      "Epoch 16/40\n",
      "62/62 [==============================] - 3s 54ms/step - loss: 0.1201 - accuracy: 0.9542 - val_loss: 0.1580 - val_accuracy: 0.9491\n",
      "Epoch 17/40\n",
      "62/62 [==============================] - 3s 55ms/step - loss: 0.1294 - accuracy: 0.9557 - val_loss: 0.1790 - val_accuracy: 0.9308\n",
      "Epoch 18/40\n",
      "62/62 [==============================] - 3s 55ms/step - loss: 0.1303 - accuracy: 0.9496 - val_loss: 0.1698 - val_accuracy: 0.9470\n",
      "Epoch 19/40\n",
      "62/62 [==============================] - 3s 54ms/step - loss: 0.1270 - accuracy: 0.9526 - val_loss: 0.1548 - val_accuracy: 0.9593\n",
      "Epoch 20/40\n",
      "62/62 [==============================] - 4s 57ms/step - loss: 0.1218 - accuracy: 0.9542 - val_loss: 0.1517 - val_accuracy: 0.9491\n",
      "Epoch 21/40\n",
      "62/62 [==============================] - 3s 56ms/step - loss: 0.1121 - accuracy: 0.9567 - val_loss: 0.1472 - val_accuracy: 0.9511\n",
      "Epoch 22/40\n",
      "62/62 [==============================] - 4s 57ms/step - loss: 0.1125 - accuracy: 0.9516 - val_loss: 0.1543 - val_accuracy: 0.9491\n",
      "Epoch 23/40\n",
      "62/62 [==============================] - 3s 54ms/step - loss: 0.1110 - accuracy: 0.9603 - val_loss: 0.2261 - val_accuracy: 0.9328\n",
      "Epoch 24/40\n",
      "62/62 [==============================] - 3s 55ms/step - loss: 0.1013 - accuracy: 0.9588 - val_loss: 0.2801 - val_accuracy: 0.9246\n",
      "Epoch 25/40\n",
      "62/62 [==============================] - 3s 55ms/step - loss: 0.1031 - accuracy: 0.9598 - val_loss: 0.1969 - val_accuracy: 0.9593\n",
      "Epoch 26/40\n",
      "62/62 [==============================] - 3s 56ms/step - loss: 0.1049 - accuracy: 0.9613 - val_loss: 0.1695 - val_accuracy: 0.9430\n",
      "Epoch 27/40\n",
      "62/62 [==============================] - 3s 55ms/step - loss: 0.1050 - accuracy: 0.9623 - val_loss: 0.1965 - val_accuracy: 0.9369\n",
      "Epoch 28/40\n",
      "62/62 [==============================] - 3s 55ms/step - loss: 0.0982 - accuracy: 0.9644 - val_loss: 0.1725 - val_accuracy: 0.9532\n",
      "Epoch 29/40\n",
      "62/62 [==============================] - 3s 56ms/step - loss: 0.1051 - accuracy: 0.9608 - val_loss: 0.1647 - val_accuracy: 0.9430\n",
      "Epoch 30/40\n",
      "62/62 [==============================] - 3s 56ms/step - loss: 0.0990 - accuracy: 0.9613 - val_loss: 0.1646 - val_accuracy: 0.9430\n",
      "Epoch 31/40\n",
      "62/62 [==============================] - 3s 55ms/step - loss: 0.0931 - accuracy: 0.9669 - val_loss: 0.1672 - val_accuracy: 0.9511\n",
      "Epoch 32/40\n",
      "62/62 [==============================] - 3s 56ms/step - loss: 0.0879 - accuracy: 0.9618 - val_loss: 0.1726 - val_accuracy: 0.9552\n",
      "Epoch 33/40\n",
      "62/62 [==============================] - 3s 56ms/step - loss: 0.0878 - accuracy: 0.9638 - val_loss: 0.1654 - val_accuracy: 0.9470\n",
      "Epoch 34/40\n",
      "62/62 [==============================] - 4s 57ms/step - loss: 0.0735 - accuracy: 0.9679 - val_loss: 0.2078 - val_accuracy: 0.9532\n",
      "Epoch 35/40\n",
      "62/62 [==============================] - 3s 56ms/step - loss: 0.0797 - accuracy: 0.9669 - val_loss: 0.2090 - val_accuracy: 0.9511\n",
      "Epoch 36/40\n",
      "62/62 [==============================] - 4s 58ms/step - loss: 0.0718 - accuracy: 0.9725 - val_loss: 0.2130 - val_accuracy: 0.9552\n",
      "Epoch 37/40\n",
      "62/62 [==============================] - 4s 58ms/step - loss: 0.0862 - accuracy: 0.9689 - val_loss: 0.1717 - val_accuracy: 0.9470\n",
      "Epoch 38/40\n",
      "62/62 [==============================] - 4s 59ms/step - loss: 0.1007 - accuracy: 0.9593 - val_loss: 0.1876 - val_accuracy: 0.9450\n",
      "Epoch 39/40\n",
      "62/62 [==============================] - 4s 57ms/step - loss: 0.0620 - accuracy: 0.9761 - val_loss: 0.1907 - val_accuracy: 0.9470\n",
      "Epoch 40/40\n",
      "62/62 [==============================] - 4s 57ms/step - loss: 0.0660 - accuracy: 0.9725 - val_loss: 0.2127 - val_accuracy: 0.9511\n"
     ]
    }
   ],
   "source": [
    "epochs = 40\n",
    "history = model.fit(\n",
    "  train_ds,\n",
    "  validation_data=val_ds,\n",
    "  epochs=epochs\n",
    ")"
   ]
  },
  {
   "cell_type": "markdown",
   "metadata": {
    "id": "Lkdl8VsBbZOu"
   },
   "source": [
    "## Visualize training results\n",
    "\n",
    "After applying data augmentation and Dropout, there is less overfitting than before, and training and validation accuracy are closer aligned. "
   ]
  },
  {
   "cell_type": "code",
   "execution_count": 14,
   "metadata": {
    "execution": {
     "iopub.execute_input": "2021-06-16T19:32:36.685578Z",
     "iopub.status.busy": "2021-06-16T19:32:36.670192Z",
     "iopub.status.idle": "2021-06-16T19:32:36.865510Z",
     "shell.execute_reply": "2021-06-16T19:32:36.865083Z"
    },
    "id": "dduoLfKsZVIA"
   },
   "outputs": [
    {
     "data": {
      "image/png": "[encoded data removed]",
      "text/plain": [
       "<Figure size 576x576 with 2 Axes>"
      ]
     },
     "metadata": {
      "needs_background": "light"
     },
     "output_type": "display_data"
    }
   ],
   "source": [
    "acc = history.history['accuracy']\n",
    "val_acc = history.history['val_accuracy']\n",
    "\n",
    "loss = history.history['loss']\n",
    "val_loss = history.history['val_loss']\n",
    "\n",
    "epochs_range = range(epochs)\n",
    "\n",
    "plt.figure(figsize=(8, 8))\n",
    "plt.subplot(1, 2, 1)\n",
    "plt.plot(epochs_range, acc, label='Training Accuracy')\n",
    "plt.plot(epochs_range, val_acc, label='Validation Accuracy')\n",
    "plt.legend(loc='lower right')\n",
    "plt.title('Training and Validation Accuracy')\n",
    "\n",
    "plt.subplot(1, 2, 2)\n",
    "plt.plot(epochs_range, loss, label='Training Loss')\n",
    "plt.plot(epochs_range, val_loss, label='Validation Loss')\n",
    "plt.legend(loc='upper right')\n",
    "plt.title('Training and Validation Loss')\n",
    "plt.show()"
   ]
  },
  {
   "cell_type": "markdown",
   "metadata": {
    "id": "dtv5VbaVb-3W"
   },
   "source": [
    "## Predict on new data"
   ]
  },
  {
   "cell_type": "markdown",
   "metadata": {
    "id": "10buWpJbcCQz"
   },
   "source": [
    "Finally, let's use our model to classify an image that wasn't included in the training or validation sets."
   ]
  },
  {
   "cell_type": "markdown",
   "metadata": {
    "id": "NKgMZ4bDcHf7"
   },
   "source": [
    "Note: Data augmentation and Dropout layers are inactive at inference time."
   ]
  },
  {
   "cell_type": "code",
   "execution_count": 45,
   "metadata": {
    "execution": {
     "iopub.execute_input": "2021-06-16T19:32:36.872224Z",
     "iopub.status.busy": "2021-06-16T19:32:36.871628Z",
     "iopub.status.idle": "2021-06-16T19:32:37.188776Z",
     "shell.execute_reply": "2021-06-16T19:32:37.189152Z"
    },
    "id": "dC40sRITBSsQ"
   },
   "outputs": [
    {
     "name": "stdout",
     "output_type": "stream",
     "text": [
      "['Papaya', 'Papaya', 'Papaya', 'Papaya', 'Papaya', 'Papaya', 'Papaya', 'Papaya', 'Papaya', 'Papaya', 'Not_Papaya', 'Papaya', 'Papaya', 'Papaya', 'Papaya', 'Papaya', 'Papaya', 'Papaya', 'Papaya', 'Papaya', 'Not_Papaya', 'Papaya', 'Papaya', 'Papaya', 'Not_Papaya', 'Not_Papaya', 'Papaya', 'Papaya', 'Papaya', 'Papaya', 'Papaya', 'Papaya', 'Papaya', 'Not_Papaya', 'Not_Papaya', 'Papaya', 'Papaya', 'Not_Papaya', 'Papaya', 'Papaya', 'Papaya', 'Papaya', 'Papaya', 'Papaya', 'Papaya', 'Papaya', 'Papaya', 'Papaya', 'Papaya', 'Not_Papaya', 'Not_Papaya', 'Not_Papaya', 'Papaya', 'Papaya', 'Not_Papaya', 'Papaya', 'Papaya', 'Not_Papaya', 'Papaya', 'Papaya', 'Papaya', 'Papaya', 'Papaya', 'Papaya', 'Papaya', 'Papaya', 'Papaya', 'Papaya', 'Papaya', 'Papaya', 'Papaya', 'Papaya', 'Papaya', 'Papaya', 'Papaya', 'Not_Papaya', 'Papaya', 'Papaya', 'Not_Papaya', 'Papaya', 'Papaya', 'Papaya', 'Papaya', 'Not_Papaya', 'Papaya', 'Not_Papaya', 'Papaya', 'Papaya', 'Papaya', 'Not_Papaya', 'Papaya', 'Papaya', 'Papaya', 'Papaya', 'Papaya', 'Papaya', 'Papaya', 'Papaya', 'Papaya', 'Papaya']\n"
     ]
    }
   ],
   "source": [
    "papaya_results=[]\n",
    "for i in range(1,101):\n",
    "    img = keras.preprocessing.image.load_img(\n",
    "        f'Testing/Papaya {i}.png', target_size=(img_height, img_width)\n",
    "    )\n",
    "    img_array = keras.preprocessing.image.img_to_array(img)\n",
    "    img_array = tf.expand_dims(img_array, 0) # Create a batch\n",
    "\n",
    "    predictions = model.predict(img_array)\n",
    "    score = tf.nn.softmax(predictions[0])\n",
    "    \n",
    "    papaya_results.append(class_names[np.argmax(score)])\n",
    "    \n",
    "print(papaya_results)\n",
    "#     print(\n",
    "#         \"{}: {} with a {:.2f} percent confidence.\"\n",
    "#         .format(i,class_names[np.argmax(score)], 100 * np.max(score))\n",
    "#     )"
   ]
  },
  {
   "cell_type": "code",
   "execution_count": 40,
   "metadata": {},
   "outputs": [
    {
     "name": "stdout",
     "output_type": "stream",
     "text": [
      "['Not_Papaya', 'Not_Papaya', 'Not_Papaya', 'Not_Papaya', 'Not_Papaya', 'Not_Papaya', 'Not_Papaya', 'Not_Papaya', 'Not_Papaya', 'Not_Papaya', 'Not_Papaya', 'Not_Papaya', 'Not_Papaya', 'Not_Papaya', 'Not_Papaya', 'Not_Papaya', 'Not_Papaya', 'Not_Papaya', 'Not_Papaya', 'Not_Papaya', 'Not_Papaya', 'Not_Papaya', 'Not_Papaya', 'Not_Papaya', 'Not_Papaya', 'Not_Papaya', 'Not_Papaya', 'Not_Papaya', 'Not_Papaya', 'Not_Papaya', 'Not_Papaya', 'Not_Papaya', 'Not_Papaya', 'Not_Papaya', 'Not_Papaya', 'Not_Papaya', 'Not_Papaya', 'Not_Papaya', 'Not_Papaya', 'Not_Papaya', 'Not_Papaya', 'Not_Papaya', 'Not_Papaya', 'Not_Papaya', 'Not_Papaya', 'Not_Papaya', 'Not_Papaya', 'Not_Papaya', 'Not_Papaya', 'Not_Papaya', 'Not_Papaya', 'Not_Papaya', 'Not_Papaya', 'Not_Papaya', 'Not_Papaya', 'Not_Papaya', 'Not_Papaya', 'Not_Papaya', 'Not_Papaya', 'Not_Papaya', 'Not_Papaya', 'Not_Papaya', 'Not_Papaya', 'Not_Papaya', 'Not_Papaya', 'Not_Papaya', 'Not_Papaya', 'Not_Papaya', 'Not_Papaya', 'Not_Papaya', 'Not_Papaya', 'Not_Papaya', 'Not_Papaya', 'Not_Papaya', 'Not_Papaya', 'Not_Papaya', 'Not_Papaya', 'Not_Papaya', 'Not_Papaya', 'Not_Papaya', 'Not_Papaya', 'Not_Papaya', 'Not_Papaya', 'Not_Papaya', 'Not_Papaya', 'Not_Papaya', 'Not_Papaya', 'Not_Papaya', 'Not_Papaya', 'Not_Papaya', 'Not_Papaya', 'Not_Papaya', 'Not_Papaya', 'Not_Papaya', 'Not_Papaya', 'Not_Papaya', 'Not_Papaya', 'Not_Papaya', 'Not_Papaya', 'Not_Papaya', 'Not_Papaya', 'Not_Papaya', 'Not_Papaya', 'Not_Papaya', 'Not_Papaya', 'Not_Papaya', 'Not_Papaya', 'Not_Papaya', 'Not_Papaya', 'Not_Papaya', 'Not_Papaya', 'Not_Papaya', 'Not_Papaya', 'Not_Papaya', 'Not_Papaya', 'Not_Papaya', 'Not_Papaya', 'Not_Papaya', 'Not_Papaya', 'Not_Papaya', 'Not_Papaya', 'Not_Papaya', 'Not_Papaya', 'Not_Papaya', 'Not_Papaya', 'Not_Papaya', 'Not_Papaya', 'Not_Papaya', 'Not_Papaya', 'Not_Papaya', 'Not_Papaya', 'Not_Papaya', 'Not_Papaya', 'Not_Papaya', 'Not_Papaya', 'Not_Papaya', 'Not_Papaya', 'Not_Papaya', 'Not_Papaya', 'Not_Papaya', 'Not_Papaya', 'Not_Papaya', 'Not_Papaya', 'Not_Papaya', 'Not_Papaya', 'Not_Papaya', 'Not_Papaya', 'Not_Papaya', 'Not_Papaya', 'Not_Papaya', 'Not_Papaya', 'Not_Papaya', 'Not_Papaya', 'Not_Papaya', 'Not_Papaya', 'Not_Papaya', 'Not_Papaya', 'Not_Papaya', 'Not_Papaya', 'Not_Papaya', 'Not_Papaya', 'Not_Papaya', 'Not_Papaya', 'Not_Papaya', 'Not_Papaya', 'Not_Papaya', 'Not_Papaya', 'Not_Papaya', 'Not_Papaya', 'Not_Papaya', 'Not_Papaya', 'Not_Papaya', 'Not_Papaya', 'Not_Papaya', 'Not_Papaya', 'Not_Papaya', 'Not_Papaya', 'Not_Papaya', 'Not_Papaya', 'Not_Papaya', 'Not_Papaya', 'Not_Papaya', 'Not_Papaya', 'Not_Papaya', 'Not_Papaya', 'Not_Papaya', 'Not_Papaya', 'Not_Papaya', 'Not_Papaya', 'Not_Papaya', 'Not_Papaya', 'Not_Papaya', 'Not_Papaya', 'Not_Papaya', 'Not_Papaya', 'Not_Papaya', 'Not_Papaya', 'Not_Papaya', 'Not_Papaya', 'Not_Papaya', 'Not_Papaya', 'Not_Papaya', 'Not_Papaya', 'Not_Papaya', 'Not_Papaya', 'Not_Papaya', 'Not_Papaya', 'Not_Papaya', 'Not_Papaya', 'Not_Papaya', 'Not_Papaya', 'Not_Papaya', 'Not_Papaya', 'Not_Papaya', 'Not_Papaya', 'Not_Papaya', 'Not_Papaya', 'Not_Papaya', 'Not_Papaya', 'Not_Papaya', 'Not_Papaya', 'Not_Papaya', 'Not_Papaya', 'Not_Papaya', 'Not_Papaya', 'Not_Papaya', 'Not_Papaya', 'Not_Papaya', 'Not_Papaya', 'Not_Papaya', 'Not_Papaya', 'Not_Papaya', 'Not_Papaya', 'Not_Papaya', 'Not_Papaya', 'Not_Papaya', 'Not_Papaya', 'Not_Papaya', 'Not_Papaya', 'Not_Papaya', 'Not_Papaya', 'Not_Papaya', 'Not_Papaya', 'Not_Papaya', 'Not_Papaya', 'Not_Papaya', 'Not_Papaya', 'Not_Papaya', 'Not_Papaya', 'Not_Papaya', 'Papaya', 'Not_Papaya', 'Not_Papaya', 'Not_Papaya', 'Not_Papaya', 'Not_Papaya', 'Not_Papaya']\n"
     ]
    }
   ],
   "source": [
    "not_papaya_results=[]\n",
    "for i in range(1,258):\n",
    "    img = keras.preprocessing.image.load_img(\n",
    "        f'Testing/Not Papaya/not_papaya ({i}).jpg', target_size=(img_height, img_width)\n",
    "    )\n",
    "    img_array = keras.preprocessing.image.img_to_array(img)\n",
    "    img_array = tf.expand_dims(img_array, 0) # Create a batch\n",
    "\n",
    "    predictions = model.predict(img_array)\n",
    "    score = tf.nn.softmax(predictions[0])\n",
    "    \n",
    "    not_papaya_results.append(class_names[np.argmax(score)])\n",
    "#     print(\n",
    "#         \"{}: {} with a {:.2f} percent confidence.\"\n",
    "#         .format(i,class_names[np.argmax(score)], 100 * np.max(score))\n",
    "#     )\n",
    "\n",
    "print(not_papaya_results)"
   ]
  },
  {
   "cell_type": "code",
   "execution_count": 38,
   "metadata": {},
   "outputs": [
    {
     "name": "stdout",
     "output_type": "stream",
     "text": [
      "18\n"
     ]
    }
   ],
   "source": [
    "err = 0\n",
    "for i in papaya_results:\n",
    "    if i==0:\n",
    "        err+=1\n",
    "for i in not_papaya_results:\n",
    "    if i==1:\n",
    "        err+=1\n",
    "print(err)"
   ]
  },
  {
   "cell_type": "code",
   "execution_count": 46,
   "metadata": {},
   "outputs": [],
   "source": [
    "model.save(\"isPapaya_round1_18_mispapaya.h5\")"
   ]
  },
  {
   "cell_type": "code",
   "execution_count": null,
   "metadata": {},
   "outputs": [],
   "source": []
  }
 ],
 "metadata": {
  "accelerator": "GPU",
  "colab": {
   "collapsed_sections": [],
   "name": "classification.ipynb",
   "toc_visible": true
  },
  "interpreter": {
   "hash": "2ccabfc3d545a186a1ecd478f0a5844fccf6ba1b64f68a02b69083b82c918d4a"
  },
  "kernelspec": {
   "display_name": "Python 3",
   "language": "python",
   "name": "python3"
  },
  "language_info": {
   "codemirror_mode": {
    "name": "ipython",
    "version": 3
   },
   "file_extension": ".py",
   "mimetype": "text/x-python",
   "name": "python",
   "nbconvert_exporter": "python",
   "pygments_lexer": "ipython3",
   "version": "3.8.8"
  }
 },
 "nbformat": 4,
 "nbformat_minor": 1
}
