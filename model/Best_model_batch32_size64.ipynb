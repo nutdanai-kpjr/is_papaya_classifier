{
 "cells": [
  {
   "cell_type": "markdown",
   "metadata": {
    "id": "FE7KNzPPVrVV"
   },
   "source": [
    "# Image classification"
   ]
  },
  {
   "cell_type": "markdown",
   "metadata": {
    "id": "zF9uvbXNVrVY"
   },
   "source": [
    "## Import libraries"
   ]
  },
  {
   "cell_type": "code",
   "execution_count": 1,
   "metadata": {
    "execution": {
     "iopub.execute_input": "2021-06-16T19:32:02.065911Z",
     "iopub.status.busy": "2021-06-16T19:32:02.065333Z",
     "iopub.status.idle": "2021-06-16T19:32:03.668090Z",
     "shell.execute_reply": "2021-06-16T19:32:03.667451Z"
    },
    "id": "L1WtoaOHVrVh"
   },
   "outputs": [],
   "source": [
    "import matplotlib.pyplot as plt\n",
    "import numpy as np\n",
    "import os\n",
    "import PIL\n",
    "import tensorflow as tf\n",
    "\n",
    "from tensorflow import keras\n",
    "from tensorflow.keras import layers\n",
    "from tensorflow.keras.models import Sequential"
   ]
  },
  {
   "cell_type": "markdown",
   "metadata": {
    "id": "xyDNn9MbIzfT"
   },
   "source": [
    "## Define some parameters for the loader:"
   ]
  },
  {
   "cell_type": "code",
   "execution_count": 2,
   "metadata": {
    "execution": {
     "iopub.execute_input": "2021-06-16T19:32:03.954602Z",
     "iopub.status.busy": "2021-06-16T19:32:03.953970Z",
     "iopub.status.idle": "2021-06-16T19:32:03.956172Z",
     "shell.execute_reply": "2021-06-16T19:32:03.955587Z"
    },
    "id": "H74l2DoDI2XD"
   },
   "outputs": [],
   "source": [
    "batch_size = 32\n",
    "img_height = 64\n",
    "img_width = 64\n",
    "num_classes = 3"
   ]
  },
  {
   "cell_type": "markdown",
   "metadata": {
    "id": "pFBhRrrEI49z"
   },
   "source": [
    "## Split Dataset (80% Training, 20% Validating)"
   ]
  },
  {
   "cell_type": "code",
   "execution_count": 3,
   "metadata": {
    "execution": {
     "iopub.execute_input": "2021-06-16T19:32:03.960239Z",
     "iopub.status.busy": "2021-06-16T19:32:03.959474Z",
     "iopub.status.idle": "2021-06-16T19:32:05.611564Z",
     "shell.execute_reply": "2021-06-16T19:32:05.611950Z"
    },
    "id": "fIR0kRZiI_AT"
   },
   "outputs": [
    {
     "name": "stdout",
     "output_type": "stream",
     "text": [
      "Found 853 files belonging to 3 classes.\n",
      "Using 683 files for training.\n"
     ]
    }
   ],
   "source": [
    "train_ds = tf.keras.preprocessing.image_dataset_from_directory(\n",
    "  './Training',\n",
    "  validation_split=0.2,\n",
    "  subset=\"training\",\n",
    "  seed=123,\n",
    "  image_size=(img_height, img_width),\n",
    "  batch_size=batch_size)"
   ]
  },
  {
   "cell_type": "code",
   "execution_count": 4,
   "metadata": {
    "execution": {
     "iopub.execute_input": "2021-06-16T19:32:05.616033Z",
     "iopub.status.busy": "2021-06-16T19:32:05.615361Z",
     "iopub.status.idle": "2021-06-16T19:32:05.736858Z",
     "shell.execute_reply": "2021-06-16T19:32:05.736400Z"
    },
    "id": "iscU3UoVJBXj"
   },
   "outputs": [
    {
     "name": "stdout",
     "output_type": "stream",
     "text": [
      "Found 853 files belonging to 3 classes.\n",
      "Using 170 files for validation.\n"
     ]
    }
   ],
   "source": [
    "val_ds = tf.keras.preprocessing.image_dataset_from_directory(\n",
    "  './Training',\n",
    "  validation_split=0.2,\n",
    "  subset=\"validation\",\n",
    "  seed=123,\n",
    "  image_size=(img_height, img_width),\n",
    "  batch_size=batch_size)"
   ]
  },
  {
   "cell_type": "markdown",
   "metadata": {
    "id": "WLQULyAvJC3X"
   },
   "source": [
    "## Show class name"
   ]
  },
  {
   "cell_type": "code",
   "execution_count": 5,
   "metadata": {
    "execution": {
     "iopub.execute_input": "2021-06-16T19:32:05.740561Z",
     "iopub.status.busy": "2021-06-16T19:32:05.740000Z",
     "iopub.status.idle": "2021-06-16T19:32:05.742741Z",
     "shell.execute_reply": "2021-06-16T19:32:05.742325Z"
    },
    "id": "ZHAxkHX5JD3k"
   },
   "outputs": [
    {
     "name": "stdout",
     "output_type": "stream",
     "text": [
      "['Medium', 'Not_Ripe', 'Ripe']\n"
     ]
    }
   ],
   "source": [
    "class_names = train_ds.class_names\n",
    "print(class_names)"
   ]
  },
  {
   "cell_type": "markdown",
   "metadata": {
    "id": "4Dr0at41KcAU"
   },
   "source": [
    "## Configure the dataset for performance\n",
    "\n",
    "Let's make sure to use buffered prefetching so you can yield data from disk without having I/O become blocking. These are two important methods you should use when loading data.\n",
    "\n",
    "`Dataset.cache()` keeps the images in memory after they're loaded off disk during the first epoch. This will ensure the dataset does not become a bottleneck while training your model. If your dataset is too large to fit into memory, you can also use this method to create a performant on-disk cache.\n",
    "\n",
    "`Dataset.prefetch()` overlaps data preprocessing and model execution while training. \n",
    "\n",
    "Interested readers can learn more about both methods, as well as how to cache data to disk in the [data performance guide](https://www.tensorflow.org/guide/data_performance#prefetching)."
   ]
  },
  {
   "cell_type": "code",
   "execution_count": 6,
   "metadata": {
    "execution": {
     "iopub.execute_input": "2021-06-16T19:32:06.460973Z",
     "iopub.status.busy": "2021-06-16T19:32:06.460380Z",
     "iopub.status.idle": "2021-06-16T19:32:06.464389Z",
     "shell.execute_reply": "2021-06-16T19:32:06.463959Z"
    },
    "id": "nOjJSm7DKoZA"
   },
   "outputs": [],
   "source": [
    "AUTOTUNE = tf.data.AUTOTUNE\n",
    "\n",
    "train_ds = train_ds.cache().shuffle(1000).prefetch(buffer_size=AUTOTUNE)\n",
    "val_ds = val_ds.cache().prefetch(buffer_size=AUTOTUNE)"
   ]
  },
  {
   "cell_type": "markdown",
   "metadata": {
    "id": "8GUnmPF4JvEf"
   },
   "source": [
    "## Standardize the data"
   ]
  },
  {
   "cell_type": "markdown",
   "metadata": {
    "id": "e56VXHMWJxYT"
   },
   "source": [
    "The RGB channel values are in the `[0, 255]` range. This is not ideal for a neural network; in general you should seek to make your input values small. Here, you will standardize values to be in the `[0, 1]` range by using a Rescaling layer."
   ]
  },
  {
   "cell_type": "code",
   "execution_count": 7,
   "metadata": {
    "execution": {
     "iopub.execute_input": "2021-06-16T19:32:06.468403Z",
     "iopub.status.busy": "2021-06-16T19:32:06.467856Z",
     "iopub.status.idle": "2021-06-16T19:32:06.473470Z",
     "shell.execute_reply": "2021-06-16T19:32:06.473070Z"
    },
    "id": "PEYxo2CTJvY9"
   },
   "outputs": [],
   "source": [
    "normalization_layer = layers.experimental.preprocessing.Rescaling(1./255)"
   ]
  },
  {
   "cell_type": "markdown",
   "metadata": {
    "id": "8aGpkwFaIw4i"
   },
   "source": [
    "Note: The Keras Preprocessing utilities and layers introduced in this section are currently experimental and may change."
   ]
  },
  {
   "cell_type": "markdown",
   "metadata": {
    "id": "Bl4RmanbJ4g0"
   },
   "source": [
    "There are two ways to use this layer. You can apply it to the dataset by calling map:"
   ]
  },
  {
   "cell_type": "code",
   "execution_count": 8,
   "metadata": {
    "execution": {
     "iopub.execute_input": "2021-06-16T19:32:06.478349Z",
     "iopub.status.busy": "2021-06-16T19:32:06.477806Z",
     "iopub.status.idle": "2021-06-16T19:32:08.048993Z",
     "shell.execute_reply": "2021-06-16T19:32:08.049348Z"
    },
    "id": "X9o9ESaJJ502"
   },
   "outputs": [
    {
     "name": "stdout",
     "output_type": "stream",
     "text": [
      "0.0 0.8851716\n"
     ]
    }
   ],
   "source": [
    "normalized_ds = train_ds.map(lambda x, y: (normalization_layer(x), y))\n",
    "image_batch, labels_batch = next(iter(normalized_ds))\n",
    "first_image = image_batch[0]\n",
    "# Notice the pixels values are now in `[0,1]`.\n",
    "print(np.min(first_image), np.max(first_image)) "
   ]
  },
  {
   "cell_type": "markdown",
   "metadata": {
    "id": "XWEOmRSBJ9J8"
   },
   "source": [
    "Or, you can include the layer inside your model definition, which can simplify deployment. Let's use the second approach here."
   ]
  },
  {
   "cell_type": "markdown",
   "metadata": {
    "id": "XsRk1xCwKZR4"
   },
   "source": [
    "Note: you previously resized images using the `image_size` argument of `image_dataset_from_directory`. If you want to include the resizing logic in your model as well, you can use the [Resizing](https://www.tensorflow.org/api_docs/python/tf/keras/layers/experimental/preprocessing/Resizing) layer."
   ]
  },
  {
   "cell_type": "markdown",
   "metadata": {
    "id": "BDMfYqwmM1C-"
   },
   "source": [
    "## Data augmentation"
   ]
  },
  {
   "cell_type": "code",
   "execution_count": 9,
   "metadata": {
    "execution": {
     "iopub.execute_input": "2021-06-16T19:32:19.982221Z",
     "iopub.status.busy": "2021-06-16T19:32:19.981601Z",
     "iopub.status.idle": "2021-06-16T19:32:20.088707Z",
     "shell.execute_reply": "2021-06-16T19:32:20.089063Z"
    },
    "id": "9J80BAbIMs21"
   },
   "outputs": [],
   "source": [
    "data_augmentation = keras.Sequential(\n",
    "  [\n",
    "    layers.experimental.preprocessing.RandomFlip(\"horizontal\", \n",
    "                                                 input_shape=(img_height, \n",
    "                                                              img_width,\n",
    "                                                              3)),\n",
    "    layers.experimental.preprocessing.RandomRotation(0.1),\n",
    "    layers.experimental.preprocessing.RandomZoom(0.1),\n",
    "  ]\n",
    ")"
   ]
  },
  {
   "cell_type": "markdown",
   "metadata": {
    "id": "ZeD3bXepYKXs"
   },
   "source": [
    "## Build model"
   ]
  },
  {
   "cell_type": "code",
   "execution_count": 10,
   "metadata": {
    "execution": {
     "iopub.execute_input": "2021-06-16T19:32:20.661411Z",
     "iopub.status.busy": "2021-06-16T19:32:20.660779Z",
     "iopub.status.idle": "2021-06-16T19:32:20.798914Z",
     "shell.execute_reply": "2021-06-16T19:32:20.798478Z"
    },
    "id": "2Zeg8zsqXCsm"
   },
   "outputs": [],
   "source": [
    "model = Sequential([\n",
    "  data_augmentation,\n",
    "  layers.experimental.preprocessing.Rescaling(1./255),\n",
    "  layers.Conv2D(16, 3, padding='same', activation='relu'),\n",
    "  layers.MaxPooling2D(),\n",
    "  layers.Conv2D(32, 3, padding='same', activation='relu'),\n",
    "  layers.MaxPooling2D(),\n",
    "  layers.Conv2D(64, 3, padding='same', activation='relu'),\n",
    "  layers.MaxPooling2D(),\n",
    "  layers.Dropout(0.1),\n",
    "  layers.Flatten(),\n",
    "  layers.Dense(128, activation='relu'),\n",
    "  layers.Dense(num_classes)\n",
    "])"
   ]
  },
  {
   "cell_type": "markdown",
   "metadata": {
    "id": "L4nEcuqgZLbi"
   },
   "source": [
    "## Compile and train the model"
   ]
  },
  {
   "cell_type": "code",
   "execution_count": 11,
   "metadata": {
    "execution": {
     "iopub.execute_input": "2021-06-16T19:32:20.804866Z",
     "iopub.status.busy": "2021-06-16T19:32:20.804298Z",
     "iopub.status.idle": "2021-06-16T19:32:20.807628Z",
     "shell.execute_reply": "2021-06-16T19:32:20.807976Z"
    },
    "id": "EvyAINs9ZOmJ"
   },
   "outputs": [],
   "source": [
    "model.compile(optimizer='adam',\n",
    "              loss=tf.keras.losses.SparseCategoricalCrossentropy(from_logits=True),\n",
    "              metrics=['accuracy'])"
   ]
  },
  {
   "cell_type": "code",
   "execution_count": 12,
   "metadata": {
    "execution": {
     "iopub.execute_input": "2021-06-16T19:32:20.812402Z",
     "iopub.status.busy": "2021-06-16T19:32:20.811772Z",
     "iopub.status.idle": "2021-06-16T19:32:20.816634Z",
     "shell.execute_reply": "2021-06-16T19:32:20.816236Z"
    },
    "id": "wWLkKoKjZSoC"
   },
   "outputs": [
    {
     "name": "stdout",
     "output_type": "stream",
     "text": [
      "Model: \"sequential_1\"\n",
      "_________________________________________________________________\n",
      "Layer (type)                 Output Shape              Param #   \n",
      "=================================================================\n",
      "sequential (Sequential)      (None, 64, 64, 3)         0         \n",
      "_________________________________________________________________\n",
      "rescaling_1 (Rescaling)      (None, 64, 64, 3)         0         \n",
      "_________________________________________________________________\n",
      "conv2d (Conv2D)              (None, 64, 64, 16)        448       \n",
      "_________________________________________________________________\n",
      "max_pooling2d (MaxPooling2D) (None, 32, 32, 16)        0         \n",
      "_________________________________________________________________\n",
      "conv2d_1 (Conv2D)            (None, 32, 32, 32)        4640      \n",
      "_________________________________________________________________\n",
      "max_pooling2d_1 (MaxPooling2 (None, 16, 16, 32)        0         \n",
      "_________________________________________________________________\n",
      "conv2d_2 (Conv2D)            (None, 16, 16, 64)        18496     \n",
      "_________________________________________________________________\n",
      "max_pooling2d_2 (MaxPooling2 (None, 8, 8, 64)          0         \n",
      "_________________________________________________________________\n",
      "dropout (Dropout)            (None, 8, 8, 64)          0         \n",
      "_________________________________________________________________\n",
      "flatten (Flatten)            (None, 4096)              0         \n",
      "_________________________________________________________________\n",
      "dense (Dense)                (None, 128)               524416    \n",
      "_________________________________________________________________\n",
      "dense_1 (Dense)              (None, 3)                 387       \n",
      "=================================================================\n",
      "Total params: 548,387\n",
      "Trainable params: 548,387\n",
      "Non-trainable params: 0\n",
      "_________________________________________________________________\n"
     ]
    }
   ],
   "source": [
    "model.summary()"
   ]
  },
  {
   "cell_type": "code",
   "execution_count": 13,
   "metadata": {
    "execution": {
     "iopub.execute_input": "2021-06-16T19:32:20.820691Z",
     "iopub.status.busy": "2021-06-16T19:32:20.820028Z",
     "iopub.status.idle": "2021-06-16T19:32:36.648463Z",
     "shell.execute_reply": "2021-06-16T19:32:36.648034Z"
    },
    "id": "LWS-vvNaZDag"
   },
   "outputs": [
    {
     "name": "stdout",
     "output_type": "stream",
     "text": [
      "Epoch 1/40\n",
      "22/22 [==============================] - 3s 100ms/step - loss: 0.6879 - accuracy: 0.6764 - val_loss: 0.2940 - val_accuracy: 0.8706\n",
      "Epoch 2/40\n",
      "22/22 [==============================] - 1s 54ms/step - loss: 0.2772 - accuracy: 0.9136 - val_loss: 0.1843 - val_accuracy: 0.9412\n",
      "Epoch 3/40\n",
      "22/22 [==============================] - 1s 53ms/step - loss: 0.2097 - accuracy: 0.9239 - val_loss: 0.2392 - val_accuracy: 0.9118\n",
      "Epoch 4/40\n",
      "22/22 [==============================] - 1s 53ms/step - loss: 0.2607 - accuracy: 0.8975 - val_loss: 0.1921 - val_accuracy: 0.9647\n",
      "Epoch 5/40\n",
      "22/22 [==============================] - 1s 52ms/step - loss: 0.1707 - accuracy: 0.9488 - val_loss: 0.0957 - val_accuracy: 0.9706\n",
      "Epoch 6/40\n",
      "22/22 [==============================] - 1s 53ms/step - loss: 0.1354 - accuracy: 0.9473 - val_loss: 0.0784 - val_accuracy: 0.9824\n",
      "Epoch 7/40\n",
      "22/22 [==============================] - 1s 53ms/step - loss: 0.1350 - accuracy: 0.9575 - val_loss: 0.0668 - val_accuracy: 0.9765\n",
      "Epoch 8/40\n",
      "22/22 [==============================] - 1s 52ms/step - loss: 0.1255 - accuracy: 0.9561 - val_loss: 0.1257 - val_accuracy: 0.9529\n",
      "Epoch 9/40\n",
      "22/22 [==============================] - 1s 55ms/step - loss: 0.1234 - accuracy: 0.9546 - val_loss: 0.0670 - val_accuracy: 0.9824\n",
      "Epoch 10/40\n",
      "22/22 [==============================] - 1s 52ms/step - loss: 0.1531 - accuracy: 0.9488 - val_loss: 0.0674 - val_accuracy: 0.9824\n",
      "Epoch 11/40\n",
      "22/22 [==============================] - 1s 53ms/step - loss: 0.0789 - accuracy: 0.9751 - val_loss: 0.1107 - val_accuracy: 0.9529\n",
      "Epoch 12/40\n",
      "22/22 [==============================] - 1s 55ms/step - loss: 0.0844 - accuracy: 0.9707 - val_loss: 0.0586 - val_accuracy: 0.9706\n",
      "Epoch 13/40\n",
      "22/22 [==============================] - 1s 55ms/step - loss: 0.0770 - accuracy: 0.9707 - val_loss: 0.0545 - val_accuracy: 0.9765\n",
      "Epoch 14/40\n",
      "22/22 [==============================] - 1s 57ms/step - loss: 0.0631 - accuracy: 0.9766 - val_loss: 0.0617 - val_accuracy: 0.9765\n",
      "Epoch 15/40\n",
      "22/22 [==============================] - 1s 56ms/step - loss: 0.0917 - accuracy: 0.9575 - val_loss: 0.0551 - val_accuracy: 0.9882\n",
      "Epoch 16/40\n",
      "22/22 [==============================] - 1s 59ms/step - loss: 0.0593 - accuracy: 0.9795 - val_loss: 0.0739 - val_accuracy: 0.9529\n",
      "Epoch 17/40\n",
      "22/22 [==============================] - 1s 53ms/step - loss: 0.0668 - accuracy: 0.9722 - val_loss: 0.0767 - val_accuracy: 0.9647\n",
      "Epoch 18/40\n",
      "22/22 [==============================] - 1s 55ms/step - loss: 0.0709 - accuracy: 0.9678 - val_loss: 0.1005 - val_accuracy: 0.9471\n",
      "Epoch 19/40\n",
      "22/22 [==============================] - 1s 55ms/step - loss: 0.0510 - accuracy: 0.9824 - val_loss: 0.1650 - val_accuracy: 0.9529\n",
      "Epoch 20/40\n",
      "22/22 [==============================] - 1s 54ms/step - loss: 0.0629 - accuracy: 0.9766 - val_loss: 0.0487 - val_accuracy: 0.9882\n",
      "Epoch 21/40\n",
      "22/22 [==============================] - 1s 51ms/step - loss: 0.0408 - accuracy: 0.9854 - val_loss: 0.0530 - val_accuracy: 0.9706\n",
      "Epoch 22/40\n",
      "22/22 [==============================] - 1s 53ms/step - loss: 0.0278 - accuracy: 0.9883 - val_loss: 0.0638 - val_accuracy: 0.9765\n",
      "Epoch 23/40\n",
      "22/22 [==============================] - 1s 53ms/step - loss: 0.0425 - accuracy: 0.9854 - val_loss: 0.0532 - val_accuracy: 0.9765\n",
      "Epoch 24/40\n",
      "22/22 [==============================] - 1s 53ms/step - loss: 0.0385 - accuracy: 0.9854 - val_loss: 0.0516 - val_accuracy: 0.9706\n",
      "Epoch 25/40\n",
      "22/22 [==============================] - 1s 57ms/step - loss: 0.0431 - accuracy: 0.9824 - val_loss: 0.1688 - val_accuracy: 0.9471\n",
      "Epoch 26/40\n",
      "22/22 [==============================] - 1s 55ms/step - loss: 0.0617 - accuracy: 0.9780 - val_loss: 0.0643 - val_accuracy: 0.9765\n",
      "Epoch 27/40\n",
      "22/22 [==============================] - 1s 53ms/step - loss: 0.0297 - accuracy: 0.9854 - val_loss: 0.0665 - val_accuracy: 0.9706\n",
      "Epoch 28/40\n",
      "22/22 [==============================] - 1s 54ms/step - loss: 0.0435 - accuracy: 0.9839 - val_loss: 0.0552 - val_accuracy: 0.9765\n",
      "Epoch 29/40\n",
      "22/22 [==============================] - 1s 54ms/step - loss: 0.0233 - accuracy: 0.9941 - val_loss: 0.0584 - val_accuracy: 0.9824\n",
      "Epoch 30/40\n",
      "22/22 [==============================] - 1s 53ms/step - loss: 0.0265 - accuracy: 0.9971 - val_loss: 0.0901 - val_accuracy: 0.9706\n",
      "Epoch 31/40\n",
      "22/22 [==============================] - 1s 54ms/step - loss: 0.0280 - accuracy: 0.9912 - val_loss: 0.0628 - val_accuracy: 0.9765\n",
      "Epoch 32/40\n",
      "22/22 [==============================] - 1s 56ms/step - loss: 0.0167 - accuracy: 0.9941 - val_loss: 0.0463 - val_accuracy: 0.9824\n",
      "Epoch 33/40\n",
      "22/22 [==============================] - 1s 55ms/step - loss: 0.0179 - accuracy: 0.9956 - val_loss: 0.0608 - val_accuracy: 0.9765\n",
      "Epoch 34/40\n",
      "22/22 [==============================] - 1s 55ms/step - loss: 0.0295 - accuracy: 0.9868 - val_loss: 0.0486 - val_accuracy: 0.9824\n",
      "Epoch 35/40\n",
      "22/22 [==============================] - 1s 54ms/step - loss: 0.0184 - accuracy: 0.9927 - val_loss: 0.0428 - val_accuracy: 0.9706\n",
      "Epoch 36/40\n",
      "22/22 [==============================] - 1s 57ms/step - loss: 0.0285 - accuracy: 0.9898 - val_loss: 0.0581 - val_accuracy: 0.9882\n",
      "Epoch 37/40\n",
      "22/22 [==============================] - 1s 66ms/step - loss: 0.0443 - accuracy: 0.9854 - val_loss: 0.2076 - val_accuracy: 0.9588\n",
      "Epoch 38/40\n",
      "22/22 [==============================] - 1s 59ms/step - loss: 0.0402 - accuracy: 0.9854 - val_loss: 0.1008 - val_accuracy: 0.9765\n",
      "Epoch 39/40\n",
      "22/22 [==============================] - 1s 59ms/step - loss: 0.0706 - accuracy: 0.9751 - val_loss: 0.1169 - val_accuracy: 0.9529\n",
      "Epoch 40/40\n",
      "22/22 [==============================] - 1s 61ms/step - loss: 0.0324 - accuracy: 0.9824 - val_loss: 0.0714 - val_accuracy: 0.9765\n"
     ]
    }
   ],
   "source": [
    "epochs = 40\n",
    "history = model.fit(\n",
    "  train_ds,\n",
    "  validation_data=val_ds,\n",
    "  epochs=epochs\n",
    ")"
   ]
  },
  {
   "cell_type": "markdown",
   "metadata": {
    "id": "Lkdl8VsBbZOu"
   },
   "source": [
    "## Visualize training results\n",
    "\n",
    "After applying data augmentation and Dropout, there is less overfitting than before, and training and validation accuracy are closer aligned. "
   ]
  },
  {
   "cell_type": "code",
   "execution_count": 14,
   "metadata": {
    "execution": {
     "iopub.execute_input": "2021-06-16T19:32:36.685578Z",
     "iopub.status.busy": "2021-06-16T19:32:36.670192Z",
     "iopub.status.idle": "2021-06-16T19:32:36.865510Z",
     "shell.execute_reply": "2021-06-16T19:32:36.865083Z"
    },
    "id": "dduoLfKsZVIA"
   },
   "outputs": [
    {
     "data": {
      "image/png": "[encoded data removed]",
      "text/plain": [
       "<Figure size 576x576 with 2 Axes>"
      ]
     },
     "metadata": {
      "needs_background": "light"
     },
     "output_type": "display_data"
    }
   ],
   "source": [
    "acc = history.history['accuracy']\n",
    "val_acc = history.history['val_accuracy']\n",
    "\n",
    "loss = history.history['loss']\n",
    "val_loss = history.history['val_loss']\n",
    "\n",
    "epochs_range = range(epochs)\n",
    "\n",
    "plt.figure(figsize=(8, 8))\n",
    "plt.subplot(1, 2, 1)\n",
    "plt.plot(epochs_range, acc, label='Training Accuracy')\n",
    "plt.plot(epochs_range, val_acc, label='Validation Accuracy')\n",
    "plt.legend(loc='lower right')\n",
    "plt.title('Training and Validation Accuracy')\n",
    "\n",
    "plt.subplot(1, 2, 2)\n",
    "plt.plot(epochs_range, loss, label='Training Loss')\n",
    "plt.plot(epochs_range, val_loss, label='Validation Loss')\n",
    "plt.legend(loc='upper right')\n",
    "plt.title('Training and Validation Loss')\n",
    "plt.show()"
   ]
  },
  {
   "cell_type": "markdown",
   "metadata": {
    "id": "dtv5VbaVb-3W"
   },
   "source": [
    "## Predict on new data"
   ]
  },
  {
   "cell_type": "markdown",
   "metadata": {
    "id": "10buWpJbcCQz"
   },
   "source": [
    "Finally, let's use our model to classify an image that wasn't included in the training or validation sets."
   ]
  },
  {
   "cell_type": "markdown",
   "metadata": {
    "id": "NKgMZ4bDcHf7"
   },
   "source": [
    "Note: Data augmentation and Dropout layers are inactive at inference time."
   ]
  },
  {
   "cell_type": "code",
   "execution_count": 15,
   "metadata": {
    "execution": {
     "iopub.execute_input": "2021-06-16T19:32:36.872224Z",
     "iopub.status.busy": "2021-06-16T19:32:36.871628Z",
     "iopub.status.idle": "2021-06-16T19:32:37.188776Z",
     "shell.execute_reply": "2021-06-16T19:32:37.189152Z"
    },
    "id": "dC40sRITBSsQ"
   },
   "outputs": [
    {
     "name": "stdout",
     "output_type": "stream",
     "text": [
      "This image most likely belongs to Ripe with a 99.63 percent confidence.\n"
     ]
    }
   ],
   "source": [
    "\n",
    "img = keras.preprocessing.image.load_img(\n",
    "    'Testing/Papaya 1.png', target_size=(img_height, img_width)\n",
    ")\n",
    "img_array = keras.preprocessing.image.img_to_array(img)\n",
    "img_array = tf.expand_dims(img_array, 0) # Create a batch\n",
    "\n",
    "predictions = model.predict(img_array)\n",
    "score = tf.nn.softmax(predictions[0])\n",
    "\n",
    "print(\n",
    "    \"This image most likely belongs to {} with a {:.2f} percent confidence.\"\n",
    "    .format(class_names[np.argmax(score)], 100 * np.max(score))\n",
    ")"
   ]
  },
  {
   "cell_type": "code",
   "execution_count": 16,
   "metadata": {},
   "outputs": [],
   "source": [
    "model.save(\"model_9Oct_batch32_size64.h5\")"
   ]
  },
  {
   "cell_type": "code",
   "execution_count": null,
   "metadata": {},
   "outputs": [],
   "source": []
  }
 ],
 "metadata": {
  "accelerator": "GPU",
  "colab": {
   "collapsed_sections": [],
   "name": "classification.ipynb",
   "toc_visible": true
  },
  "interpreter": {
   "hash": "aee8b7b246df8f9039afb4144a1f6fd8d2ca17a180786b69acc140d282b71a49"
  },
  "kernelspec": {
   "display_name": "Python 3",
   "language": "python",
   "name": "python3"
  },
  "language_info": {
   "codemirror_mode": {
    "name": "ipython",
    "version": 3
   },
   "file_extension": ".py",
   "mimetype": "text/x-python",
   "name": "python",
   "nbconvert_exporter": "python",
   "pygments_lexer": "ipython3",
   "version": "3.8.8"
  }
 },
 "nbformat": 4,
 "nbformat_minor": 1
}
