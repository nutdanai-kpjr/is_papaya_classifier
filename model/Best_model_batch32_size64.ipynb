{
 "cells": [
  {
   "cell_type": "markdown",
   "metadata": {
    "id": "FE7KNzPPVrVV"
   },
   "source": [
    "# Image classification"
   ]
  },
  {
   "cell_type": "markdown",
   "metadata": {
    "id": "zF9uvbXNVrVY"
   },
   "source": [
    "## Import libraries"
   ]
  },
  {
   "cell_type": "code",
   "execution_count": 107,
   "metadata": {
    "execution": {
     "iopub.execute_input": "2021-06-16T19:32:02.065911Z",
     "iopub.status.busy": "2021-06-16T19:32:02.065333Z",
     "iopub.status.idle": "2021-06-16T19:32:03.668090Z",
     "shell.execute_reply": "2021-06-16T19:32:03.667451Z"
    },
    "id": "L1WtoaOHVrVh"
   },
   "outputs": [],
   "source": [
    "import matplotlib.pyplot as plt\n",
    "import numpy as np\n",
    "import os\n",
    "import PIL\n",
    "import tensorflow as tf\n",
    "\n",
    "from tensorflow import keras\n",
    "from tensorflow.keras import layers\n",
    "from tensorflow.keras.models import Sequential"
   ]
  },
  {
   "cell_type": "markdown",
   "metadata": {
    "id": "xyDNn9MbIzfT"
   },
   "source": [
    "## Define some parameters for the loader:"
   ]
  },
  {
   "cell_type": "code",
   "execution_count": 108,
   "metadata": {
    "execution": {
     "iopub.execute_input": "2021-06-16T19:32:03.954602Z",
     "iopub.status.busy": "2021-06-16T19:32:03.953970Z",
     "iopub.status.idle": "2021-06-16T19:32:03.956172Z",
     "shell.execute_reply": "2021-06-16T19:32:03.955587Z"
    },
    "id": "H74l2DoDI2XD"
   },
   "outputs": [],
   "source": [
    "batch_size = 32\n",
    "img_height = 64\n",
    "img_width = 64\n",
    "num_classes = 2"
   ]
  },
  {
   "cell_type": "markdown",
   "metadata": {
    "id": "pFBhRrrEI49z"
   },
   "source": [
    "## Split Dataset (80% Training, 20% Validating)"
   ]
  },
  {
   "cell_type": "code",
   "execution_count": 109,
   "metadata": {
    "execution": {
     "iopub.execute_input": "2021-06-16T19:32:03.960239Z",
     "iopub.status.busy": "2021-06-16T19:32:03.959474Z",
     "iopub.status.idle": "2021-06-16T19:32:05.611564Z",
     "shell.execute_reply": "2021-06-16T19:32:05.611950Z"
    },
    "id": "fIR0kRZiI_AT"
   },
   "outputs": [
    {
     "name": "stdout",
     "output_type": "stream",
     "text": [
      "Found 3199 files belonging to 2 classes.\n",
      "Using 2560 files for training.\n"
     ]
    }
   ],
   "source": [
    "train_ds = tf.keras.preprocessing.image_dataset_from_directory(\n",
    "  './Training',\n",
    "  validation_split=0.2,\n",
    "  subset=\"training\",\n",
    "  seed=123,\n",
    "  image_size=(img_height, img_width),\n",
    "  batch_size=batch_size)"
   ]
  },
  {
   "cell_type": "code",
   "execution_count": 110,
   "metadata": {
    "execution": {
     "iopub.execute_input": "2021-06-16T19:32:05.616033Z",
     "iopub.status.busy": "2021-06-16T19:32:05.615361Z",
     "iopub.status.idle": "2021-06-16T19:32:05.736858Z",
     "shell.execute_reply": "2021-06-16T19:32:05.736400Z"
    },
    "id": "iscU3UoVJBXj"
   },
   "outputs": [
    {
     "name": "stdout",
     "output_type": "stream",
     "text": [
      "Found 3199 files belonging to 2 classes.\n",
      "Using 639 files for validation.\n"
     ]
    }
   ],
   "source": [
    "val_ds = tf.keras.preprocessing.image_dataset_from_directory(\n",
    "  './Training',\n",
    "  validation_split=0.2,\n",
    "  subset=\"validation\",\n",
    "  seed=123,\n",
    "  image_size=(img_height, img_width),\n",
    "  batch_size=batch_size)"
   ]
  },
  {
   "cell_type": "markdown",
   "metadata": {
    "id": "WLQULyAvJC3X"
   },
   "source": [
    "## Show class name"
   ]
  },
  {
   "cell_type": "code",
   "execution_count": 137,
   "metadata": {
    "execution": {
     "iopub.execute_input": "2021-06-16T19:32:05.740561Z",
     "iopub.status.busy": "2021-06-16T19:32:05.740000Z",
     "iopub.status.idle": "2021-06-16T19:32:05.742741Z",
     "shell.execute_reply": "2021-06-16T19:32:05.742325Z"
    },
    "id": "ZHAxkHX5JD3k"
   },
   "outputs": [
    {
     "ename": "AttributeError",
     "evalue": "'PrefetchDataset' object has no attribute 'class_names'",
     "output_type": "error",
     "traceback": [
      "\u001b[1;31m---------------------------------------------------------------------------\u001b[0m",
      "\u001b[1;31mAttributeError\u001b[0m                            Traceback (most recent call last)",
      "\u001b[1;32m<ipython-input-137-4793ea69604d>\u001b[0m in \u001b[0;36m<module>\u001b[1;34m\u001b[0m\n\u001b[1;32m----> 1\u001b[1;33m \u001b[0mclass_names\u001b[0m \u001b[1;33m=\u001b[0m \u001b[0mtrain_ds\u001b[0m\u001b[1;33m.\u001b[0m\u001b[0mclass_names\u001b[0m\u001b[1;33m\u001b[0m\u001b[1;33m\u001b[0m\u001b[0m\n\u001b[0m\u001b[0;32m      2\u001b[0m \u001b[0mprint\u001b[0m\u001b[1;33m(\u001b[0m\u001b[0mclass_names\u001b[0m\u001b[1;33m)\u001b[0m\u001b[1;33m\u001b[0m\u001b[1;33m\u001b[0m\u001b[0m\n",
      "\u001b[1;31mAttributeError\u001b[0m: 'PrefetchDataset' object has no attribute 'class_names'"
     ]
    }
   ],
   "source": [
    "class_names = train_ds.class_names\n",
    "print(class_names)"
   ]
  },
  {
   "cell_type": "markdown",
   "metadata": {
    "id": "4Dr0at41KcAU"
   },
   "source": [
    "## Configure the dataset for performance\n",
    "\n",
    "Let's make sure to use buffered prefetching so you can yield data from disk without having I/O become blocking. These are two important methods you should use when loading data.\n",
    "\n",
    "`Dataset.cache()` keeps the images in memory after they're loaded off disk during the first epoch. This will ensure the dataset does not become a bottleneck while training your model. If your dataset is too large to fit into memory, you can also use this method to create a performant on-disk cache.\n",
    "\n",
    "`Dataset.prefetch()` overlaps data preprocessing and model execution while training. \n",
    "\n",
    "Interested readers can learn more about both methods, as well as how to cache data to disk in the [data performance guide](https://www.tensorflow.org/guide/data_performance#prefetching)."
   ]
  },
  {
   "cell_type": "code",
   "execution_count": 160,
   "metadata": {
    "execution": {
     "iopub.execute_input": "2021-06-16T19:32:06.460973Z",
     "iopub.status.busy": "2021-06-16T19:32:06.460380Z",
     "iopub.status.idle": "2021-06-16T19:32:06.464389Z",
     "shell.execute_reply": "2021-06-16T19:32:06.463959Z"
    },
    "id": "nOjJSm7DKoZA"
   },
   "outputs": [],
   "source": [
    "AUTOTUNE = tf.data.AUTOTUNE\n",
    "\n",
    "train_ds = train_ds.cache().shuffle(1000).prefetch(buffer_size=AUTOTUNE)\n",
    "val_ds = val_ds.cache().prefetch(buffer_size=AUTOTUNE)"
   ]
  },
  {
   "cell_type": "markdown",
   "metadata": {
    "id": "8GUnmPF4JvEf"
   },
   "source": [
    "## Standardize the data"
   ]
  },
  {
   "cell_type": "markdown",
   "metadata": {
    "id": "e56VXHMWJxYT"
   },
   "source": [
    "The RGB channel values are in the `[0, 255]` range. This is not ideal for a neural network; in general you should seek to make your input values small. Here, you will standardize values to be in the `[0, 1]` range by using a Rescaling layer."
   ]
  },
  {
   "cell_type": "code",
   "execution_count": 161,
   "metadata": {
    "execution": {
     "iopub.execute_input": "2021-06-16T19:32:06.468403Z",
     "iopub.status.busy": "2021-06-16T19:32:06.467856Z",
     "iopub.status.idle": "2021-06-16T19:32:06.473470Z",
     "shell.execute_reply": "2021-06-16T19:32:06.473070Z"
    },
    "id": "PEYxo2CTJvY9"
   },
   "outputs": [],
   "source": [
    "normalization_layer = layers.experimental.preprocessing.Rescaling(1./255)"
   ]
  },
  {
   "cell_type": "markdown",
   "metadata": {
    "id": "8aGpkwFaIw4i"
   },
   "source": [
    "Note: The Keras Preprocessing utilities and layers introduced in this section are currently experimental and may change."
   ]
  },
  {
   "cell_type": "markdown",
   "metadata": {
    "id": "Bl4RmanbJ4g0"
   },
   "source": [
    "There are two ways to use this layer. You can apply it to the dataset by calling map:"
   ]
  },
  {
   "cell_type": "code",
   "execution_count": 162,
   "metadata": {
    "execution": {
     "iopub.execute_input": "2021-06-16T19:32:06.478349Z",
     "iopub.status.busy": "2021-06-16T19:32:06.477806Z",
     "iopub.status.idle": "2021-06-16T19:32:08.048993Z",
     "shell.execute_reply": "2021-06-16T19:32:08.049348Z"
    },
    "id": "X9o9ESaJJ502"
   },
   "outputs": [
    {
     "name": "stdout",
     "output_type": "stream",
     "text": [
      "0.0 1.0\n"
     ]
    }
   ],
   "source": [
    "normalized_ds = train_ds.map(lambda x, y: (normalization_layer(x), y))\n",
    "image_batch, labels_batch = next(iter(normalized_ds))\n",
    "first_image = image_batch[0]\n",
    "# Notice the pixels values are now in `[0,1]`.\n",
    "print(np.min(first_image), np.max(first_image)) "
   ]
  },
  {
   "cell_type": "markdown",
   "metadata": {
    "id": "XWEOmRSBJ9J8"
   },
   "source": [
    "Or, you can include the layer inside your model definition, which can simplify deployment. Let's use the second approach here."
   ]
  },
  {
   "cell_type": "markdown",
   "metadata": {
    "id": "XsRk1xCwKZR4"
   },
   "source": [
    "Note: you previously resized images using the `image_size` argument of `image_dataset_from_directory`. If you want to include the resizing logic in your model as well, you can use the [Resizing](https://www.tensorflow.org/api_docs/python/tf/keras/layers/experimental/preprocessing/Resizing) layer."
   ]
  },
  {
   "cell_type": "markdown",
   "metadata": {
    "id": "BDMfYqwmM1C-"
   },
   "source": [
    "## Data augmentation"
   ]
  },
  {
   "cell_type": "code",
   "execution_count": 163,
   "metadata": {
    "execution": {
     "iopub.execute_input": "2021-06-16T19:32:19.982221Z",
     "iopub.status.busy": "2021-06-16T19:32:19.981601Z",
     "iopub.status.idle": "2021-06-16T19:32:20.088707Z",
     "shell.execute_reply": "2021-06-16T19:32:20.089063Z"
    },
    "id": "9J80BAbIMs21"
   },
   "outputs": [],
   "source": [
    "data_augmentation = keras.Sequential(\n",
    "  [\n",
    "    layers.experimental.preprocessing.RandomFlip(\"horizontal\", \n",
    "                                                 input_shape=(img_height, \n",
    "                                                              img_width,\n",
    "                                                              3)),\n",
    "    layers.experimental.preprocessing.RandomRotation(0.1),\n",
    "    layers.experimental.preprocessing.RandomZoom(0.1),\n",
    "  ]\n",
    ")"
   ]
  },
  {
   "cell_type": "markdown",
   "metadata": {
    "id": "ZeD3bXepYKXs"
   },
   "source": [
    "## Build model"
   ]
  },
  {
   "cell_type": "code",
   "execution_count": 164,
   "metadata": {
    "execution": {
     "iopub.execute_input": "2021-06-16T19:32:20.661411Z",
     "iopub.status.busy": "2021-06-16T19:32:20.660779Z",
     "iopub.status.idle": "2021-06-16T19:32:20.798914Z",
     "shell.execute_reply": "2021-06-16T19:32:20.798478Z"
    },
    "id": "2Zeg8zsqXCsm"
   },
   "outputs": [],
   "source": [
    "model = Sequential([\n",
    "  data_augmentation,\n",
    "  layers.experimental.preprocessing.Rescaling(1./255),\n",
    "  layers.Conv2D(16, 3, padding='same', activation='relu'),\n",
    "  layers.MaxPooling2D(),\n",
    "  layers.Conv2D(32, 3, padding='same', activation='relu'),\n",
    "  layers.MaxPooling2D(),\n",
    "  layers.Conv2D(64, 3, padding='same', activation='relu'),\n",
    "  layers.MaxPooling2D(),\n",
    "  layers.Dropout(0.2),\n",
    "  layers.Flatten(),\n",
    "  layers.Dense(64, activation='relu'),\n",
    "  layers.Dense(1, activation='sigmoid')\n",
    "\n",
    "])"
   ]
  },
  {
   "cell_type": "markdown",
   "metadata": {
    "id": "L4nEcuqgZLbi"
   },
   "source": [
    "## Compile and train the model"
   ]
  },
  {
   "cell_type": "code",
   "execution_count": 165,
   "metadata": {
    "execution": {
     "iopub.execute_input": "2021-06-16T19:32:20.804866Z",
     "iopub.status.busy": "2021-06-16T19:32:20.804298Z",
     "iopub.status.idle": "2021-06-16T19:32:20.807628Z",
     "shell.execute_reply": "2021-06-16T19:32:20.807976Z"
    },
    "id": "EvyAINs9ZOmJ"
   },
   "outputs": [],
   "source": [
    "model.compile(optimizer='adam',\n",
    "              loss=tf.keras.losses.BinaryCrossentropy(),\n",
    "              metrics=['accuracy'])"
   ]
  },
  {
   "cell_type": "code",
   "execution_count": 166,
   "metadata": {
    "execution": {
     "iopub.execute_input": "2021-06-16T19:32:20.812402Z",
     "iopub.status.busy": "2021-06-16T19:32:20.811772Z",
     "iopub.status.idle": "2021-06-16T19:32:20.816634Z",
     "shell.execute_reply": "2021-06-16T19:32:20.816236Z"
    },
    "id": "wWLkKoKjZSoC"
   },
   "outputs": [
    {
     "name": "stdout",
     "output_type": "stream",
     "text": [
      "Model: \"sequential_17\"\n",
      "_________________________________________________________________\n",
      "Layer (type)                 Output Shape              Param #   \n",
      "=================================================================\n",
      "sequential_16 (Sequential)   (None, 64, 64, 3)         0         \n",
      "_________________________________________________________________\n",
      "rescaling_17 (Rescaling)     (None, 64, 64, 3)         0         \n",
      "_________________________________________________________________\n",
      "conv2d_27 (Conv2D)           (None, 64, 64, 16)        448       \n",
      "_________________________________________________________________\n",
      "max_pooling2d_27 (MaxPooling (None, 32, 32, 16)        0         \n",
      "_________________________________________________________________\n",
      "conv2d_28 (Conv2D)           (None, 32, 32, 32)        4640      \n",
      "_________________________________________________________________\n",
      "max_pooling2d_28 (MaxPooling (None, 16, 16, 32)        0         \n",
      "_________________________________________________________________\n",
      "conv2d_29 (Conv2D)           (None, 16, 16, 64)        18496     \n",
      "_________________________________________________________________\n",
      "max_pooling2d_29 (MaxPooling (None, 8, 8, 64)          0         \n",
      "_________________________________________________________________\n",
      "dropout_9 (Dropout)          (None, 8, 8, 64)          0         \n",
      "_________________________________________________________________\n",
      "flatten_9 (Flatten)          (None, 4096)              0         \n",
      "_________________________________________________________________\n",
      "dense_18 (Dense)             (None, 64)                262208    \n",
      "_________________________________________________________________\n",
      "dense_19 (Dense)             (None, 1)                 65        \n",
      "=================================================================\n",
      "Total params: 285,857\n",
      "Trainable params: 285,857\n",
      "Non-trainable params: 0\n",
      "_________________________________________________________________\n"
     ]
    }
   ],
   "source": [
    "model.summary()"
   ]
  },
  {
   "cell_type": "code",
   "execution_count": 167,
   "metadata": {
    "execution": {
     "iopub.execute_input": "2021-06-16T19:32:20.820691Z",
     "iopub.status.busy": "2021-06-16T19:32:20.820028Z",
     "iopub.status.idle": "2021-06-16T19:32:36.648463Z",
     "shell.execute_reply": "2021-06-16T19:32:36.648034Z"
    },
    "id": "LWS-vvNaZDag",
    "scrolled": true
   },
   "outputs": [
    {
     "name": "stdout",
     "output_type": "stream",
     "text": [
      "Epoch 1/25\n",
      "80/80 [==============================] - 10s 101ms/step - loss: 0.3561 - accuracy: 0.8480 - val_loss: 0.2438 - val_accuracy: 0.9014\n",
      "Epoch 2/25\n",
      "80/80 [==============================] - 7s 90ms/step - loss: 0.2346 - accuracy: 0.9117 - val_loss: 0.1744 - val_accuracy: 0.9327\n",
      "Epoch 3/25\n",
      "80/80 [==============================] - 7s 92ms/step - loss: 0.2108 - accuracy: 0.9191 - val_loss: 0.1819 - val_accuracy: 0.9437\n",
      "Epoch 4/25\n",
      "80/80 [==============================] - 7s 92ms/step - loss: 0.1920 - accuracy: 0.9223 - val_loss: 0.1726 - val_accuracy: 0.9390\n",
      "Epoch 5/25\n",
      "80/80 [==============================] - 7s 91ms/step - loss: 0.1798 - accuracy: 0.9363 - val_loss: 0.2487 - val_accuracy: 0.9171\n",
      "Epoch 6/25\n",
      "80/80 [==============================] - 7s 93ms/step - loss: 0.1718 - accuracy: 0.9375 - val_loss: 0.1713 - val_accuracy: 0.9468\n",
      "Epoch 7/25\n",
      "80/80 [==============================] - 7s 90ms/step - loss: 0.1475 - accuracy: 0.9449 - val_loss: 0.1585 - val_accuracy: 0.9484\n",
      "Epoch 8/25\n",
      "80/80 [==============================] - 7s 93ms/step - loss: 0.1605 - accuracy: 0.9387 - val_loss: 0.1433 - val_accuracy: 0.9484\n",
      "Epoch 9/25\n",
      "80/80 [==============================] - 7s 90ms/step - loss: 0.1553 - accuracy: 0.9441 - val_loss: 0.1488 - val_accuracy: 0.9515\n",
      "Epoch 10/25\n",
      "80/80 [==============================] - 7s 93ms/step - loss: 0.1403 - accuracy: 0.9461 - val_loss: 0.1279 - val_accuracy: 0.9546\n",
      "Epoch 11/25\n",
      "80/80 [==============================] - 7s 92ms/step - loss: 0.1355 - accuracy: 0.9477 - val_loss: 0.1219 - val_accuracy: 0.9577\n",
      "Epoch 12/25\n",
      "80/80 [==============================] - 7s 91ms/step - loss: 0.1281 - accuracy: 0.9531 - val_loss: 0.1234 - val_accuracy: 0.9546\n",
      "Epoch 13/25\n",
      "80/80 [==============================] - 7s 91ms/step - loss: 0.1367 - accuracy: 0.9484 - val_loss: 0.1402 - val_accuracy: 0.9577\n",
      "Epoch 14/25\n",
      "80/80 [==============================] - 7s 90ms/step - loss: 0.1215 - accuracy: 0.9563 - val_loss: 0.1708 - val_accuracy: 0.9405\n",
      "Epoch 15/25\n",
      "80/80 [==============================] - 8s 94ms/step - loss: 0.1315 - accuracy: 0.9492 - val_loss: 0.1139 - val_accuracy: 0.9640\n",
      "Epoch 16/25\n",
      "80/80 [==============================] - 7s 91ms/step - loss: 0.1210 - accuracy: 0.9508 - val_loss: 0.1262 - val_accuracy: 0.9531\n",
      "Epoch 17/25\n",
      "80/80 [==============================] - 7s 92ms/step - loss: 0.1169 - accuracy: 0.9578 - val_loss: 0.2134 - val_accuracy: 0.9358\n",
      "Epoch 18/25\n",
      "80/80 [==============================] - 7s 91ms/step - loss: 0.1163 - accuracy: 0.9582 - val_loss: 0.1321 - val_accuracy: 0.9546\n",
      "Epoch 19/25\n",
      "80/80 [==============================] - 9s 107ms/step - loss: 0.1090 - accuracy: 0.9605 - val_loss: 0.1214 - val_accuracy: 0.9562\n",
      "Epoch 20/25\n",
      "80/80 [==============================] - 7s 90ms/step - loss: 0.1138 - accuracy: 0.9566 - val_loss: 0.1640 - val_accuracy: 0.9405\n",
      "Epoch 21/25\n",
      "80/80 [==============================] - 8s 94ms/step - loss: 0.1040 - accuracy: 0.9578 - val_loss: 0.1242 - val_accuracy: 0.9531\n",
      "Epoch 22/25\n",
      "80/80 [==============================] - 7s 92ms/step - loss: 0.1045 - accuracy: 0.9578 - val_loss: 0.1412 - val_accuracy: 0.9515\n",
      "Epoch 23/25\n",
      "80/80 [==============================] - 7s 94ms/step - loss: 0.1016 - accuracy: 0.9621 - val_loss: 0.0961 - val_accuracy: 0.9624\n",
      "Epoch 24/25\n",
      "80/80 [==============================] - 7s 90ms/step - loss: 0.1015 - accuracy: 0.9605 - val_loss: 0.1032 - val_accuracy: 0.9593\n",
      "Epoch 25/25\n",
      "80/80 [==============================] - 7s 92ms/step - loss: 0.1000 - accuracy: 0.9637 - val_loss: 0.1310 - val_accuracy: 0.9562\n"
     ]
    }
   ],
   "source": [
    "epochs = 25\n",
    "history = model.fit(\n",
    "  train_ds,\n",
    "  validation_data=val_ds,\n",
    "  epochs=epochs\n",
    ")"
   ]
  },
  {
   "cell_type": "markdown",
   "metadata": {
    "id": "Lkdl8VsBbZOu"
   },
   "source": [
    "## Visualize training results\n",
    "\n",
    "After applying data augmentation and Dropout, there is less overfitting than before, and training and validation accuracy are closer aligned. "
   ]
  },
  {
   "cell_type": "code",
   "execution_count": 168,
   "metadata": {
    "execution": {
     "iopub.execute_input": "2021-06-16T19:32:36.685578Z",
     "iopub.status.busy": "2021-06-16T19:32:36.670192Z",
     "iopub.status.idle": "2021-06-16T19:32:36.865510Z",
     "shell.execute_reply": "2021-06-16T19:32:36.865083Z"
    },
    "id": "dduoLfKsZVIA"
   },
   "outputs": [
    {
     "data": {
      "image/png": "[encoded data removed]",
      "text/plain": [
       "<Figure size 800x800 with 2 Axes>"
      ]
     },
     "metadata": {},
     "output_type": "display_data"
    }
   ],
   "source": [
    "acc = history.history['accuracy']\n",
    "val_acc = history.history['val_accuracy']\n",
    "\n",
    "loss = history.history['loss']\n",
    "val_loss = history.history['val_loss']\n",
    "\n",
    "epochs_range = range(epochs)\n",
    "\n",
    "plt.figure(figsize=(8, 8))\n",
    "plt.subplot(1, 2, 1)\n",
    "plt.plot(epochs_range, acc, label='Training Accuracy')\n",
    "plt.plot(epochs_range, val_acc, label='Validation Accuracy')\n",
    "plt.legend(loc='lower right')\n",
    "plt.title('Training and Validation Accuracy')\n",
    "\n",
    "plt.subplot(1, 2, 2)\n",
    "plt.plot(epochs_range, loss, label='Training Loss')\n",
    "plt.plot(epochs_range, val_loss, label='Validation Loss')\n",
    "plt.legend(loc='upper right')\n",
    "plt.title('Training and Validation Loss')\n",
    "plt.show()"
   ]
  },
  {
   "cell_type": "markdown",
   "metadata": {
    "id": "dtv5VbaVb-3W"
   },
   "source": [
    "## Predict on new data"
   ]
  },
  {
   "cell_type": "markdown",
   "metadata": {
    "id": "10buWpJbcCQz"
   },
   "source": [
    "Finally, let's use our model to classify an image that wasn't included in the training or validation sets."
   ]
  },
  {
   "cell_type": "markdown",
   "metadata": {
    "id": "NKgMZ4bDcHf7"
   },
   "source": [
    "Note: Data augmentation and Dropout layers are inactive at inference time."
   ]
  },
  {
   "cell_type": "code",
   "execution_count": 171,
   "metadata": {
    "scrolled": false
   },
   "outputs": [
    {
     "name": "stdout",
     "output_type": "stream",
     "text": [
      "papaya 4.png : Mismatch\n",
      "papaya 7.png : Mismatch\n",
      "papaya 11.png : Mismatch\n",
      "papaya 16.png : Mismatch\n",
      "papaya 17.png : Mismatch\n",
      "papaya 18.png : Mismatch\n",
      "papaya 19.png : Mismatch\n",
      "papaya 21.png : Mismatch\n",
      "papaya 25.png : Mismatch\n",
      "papaya 26.png : Mismatch\n",
      "papaya 34.png : Mismatch\n",
      "papaya 35.png : Mismatch\n",
      "papaya 38.png : Mismatch\n",
      "papaya 40.png : Mismatch\n",
      "papaya 45.png : Mismatch\n",
      "papaya 50.png : Mismatch\n",
      "papaya 51.png : Mismatch\n",
      "papaya 52.png : Mismatch\n",
      "papaya 53.png : Mismatch\n",
      "papaya 54.png : Mismatch\n",
      "papaya 58.png : Mismatch\n",
      "papaya 60.png : Mismatch\n",
      "papaya 62.png : Mismatch\n",
      "papaya 64.png : Mismatch\n",
      "papaya 76.png : Mismatch\n",
      "papaya 79.png : Mismatch\n",
      "papaya 81.png : Mismatch\n",
      "papaya 83.png : Mismatch\n",
      "papaya 84.png : Mismatch\n",
      "papaya 86.png : Mismatch\n",
      "Not papaya 78.png : Mismatch\n",
      "Not papaya 95.png : Mismatch\n",
      "Not papaya 135.png : Mismatch\n",
      "Not papaya 170.png : Mismatch\n",
      "Not papaya 221.png : Mismatch\n",
      "35\n",
      "Efficiency 0.8982558139534884\n"
     ]
    },
    {
     "data": {
      "image/png": "[encoded data removed]",
      "text/plain": [
       "<Figure size 640x480 with 2 Axes>"
      ]
     },
     "metadata": {},
     "output_type": "display_data"
    }
   ],
   "source": [
    "# 0 = not papaya\n",
    "# 1 = papaya\n",
    "model = keras.models.load_model(\"firstModel_binary.h5\")\n",
    "papaya_results=[]\n",
    "err = 0\n",
    "for i in range(1,88):\n",
    "    img = keras.preprocessing.image.load_img(\n",
    "        f'Testing/Papaya {i}.png', target_size=(img_height, img_width)\n",
    "    )\n",
    "    img_array = keras.preprocessing.image.img_to_array(img)\n",
    "    img_array = tf.expand_dims(img_array, 0) # Create a batch\n",
    "\n",
    "    predictions = model.predict(img_array)\n",
    "    score = tf.nn.softmax(predictions[0])\n",
    "    if(predictions[0]<0.5):\n",
    "        print(f'papaya {i}.png : Mismatch')\n",
    "        err= err+1\n",
    "        \n",
    "#     print(f\"{i}: {class_names[np.argmax(score)]}\")\n",
    "    papaya_results.append(np.round(predictions[0]))\n",
    "    \n",
    "# print(papaya_results)\n",
    "#     print(\n",
    "#         \"{}: {} with a {:.2f} percent confidence.\"\n",
    "#         .format(i,class_names[np.argmax(score)], 100 * np.max(score))\n",
    "#     )\n",
    "\n",
    "not_papaya_results=[]\n",
    "for i in range(1,258):\n",
    "    img = keras.preprocessing.image.load_img(\n",
    "        f'Testing/Not Papaya/not_papaya ({i}).jpg', target_size=(img_height, img_width)\n",
    "    )\n",
    "    img_array = keras.preprocessing.image.img_to_array(img)\n",
    "    img_array = tf.expand_dims(img_array, 0) # Create a batch\n",
    "\n",
    "    predictions = model.predict(img_array)\n",
    "    score = tf.nn.softmax(predictions[0])\n",
    "\n",
    "    if(predictions[0]>=0.5):\n",
    "        print(f'Not papaya {i}.png : Mismatch')\n",
    "        err= err+1\n",
    "    not_papaya_results.append(np.round(predictions[0]))\n",
    "#     not_papaya_results.append(class_names[np.argmax(score)])\n",
    "#     print(\n",
    "#         \"{}: {} with a {:.2f} percent confidence.\"\n",
    "#         .format(i,class_names[np.argmax(score)], 100 * np.max(score))\n",
    "#     )\n",
    "\n",
    "# print(not_papaya_results)\n",
    "print(err)\n",
    "print(f'Efficiency {((257+87)-err)/(257+87)}')\n",
    "\n",
    "from sklearn.metrics import ConfusionMatrixDisplay\n",
    "from sklearn.metrics import confusion_matrix\n",
    "import matplotlib.pyplot as plt\n",
    "test_result = [1]*87+[0]*257\n",
    "y_pred = papaya_results+not_papaya_results\n",
    "cm = confusion_matrix(test_result, y_pred)\n",
    "disp = ConfusionMatrixDisplay(confusion_matrix=cm, display_labels=class_names)\n",
    "disp.plot(cmap=plt.cm.Blues)\n",
    "plt.show()\n"
   ]
  },
  {
   "cell_type": "code",
   "execution_count": 133,
   "metadata": {
    "execution": {
     "iopub.execute_input": "2021-06-16T19:32:36.872224Z",
     "iopub.status.busy": "2021-06-16T19:32:36.871628Z",
     "iopub.status.idle": "2021-06-16T19:32:37.188776Z",
     "shell.execute_reply": "2021-06-16T19:32:37.189152Z"
    },
    "id": "dC40sRITBSsQ",
    "scrolled": false
   },
   "outputs": [
    {
     "name": "stdout",
     "output_type": "stream",
     "text": [
      "['Papaya', 'Papaya', 'Papaya', 'Papaya', 'Papaya', 'Papaya', 'Papaya', 'Papaya', 'Papaya', 'Papaya', 'Papaya', 'Papaya', 'Papaya', 'Papaya', 'Papaya', 'Papaya', 'Not_Papaya', 'Papaya', 'Papaya', 'Papaya', 'Not_Papaya', 'Papaya', 'Papaya', 'Papaya', 'Not_Papaya', 'Papaya', 'Papaya', 'Papaya', 'Papaya', 'Papaya', 'Papaya', 'Papaya', 'Papaya', 'Not_Papaya', 'Papaya', 'Papaya', 'Papaya', 'Papaya', 'Papaya', 'Papaya', 'Papaya', 'Papaya', 'Papaya', 'Papaya', 'Papaya', 'Papaya', 'Papaya', 'Papaya', 'Papaya', 'Papaya', 'Papaya', 'Not_Papaya', 'Papaya', 'Papaya', 'Papaya', 'Papaya', 'Papaya', 'Papaya', 'Papaya', 'Papaya', 'Papaya', 'Papaya', 'Papaya', 'Papaya', 'Papaya', 'Papaya', 'Papaya', 'Papaya', 'Papaya', 'Papaya', 'Papaya', 'Papaya', 'Papaya', 'Papaya', 'Papaya', 'Not_Papaya', 'Papaya', 'Papaya', 'Not_Papaya', 'Papaya', 'Papaya', 'Papaya', 'Not_Papaya', 'Papaya', 'Papaya', 'Not_Papaya', 'Papaya']\n",
      "19\n",
      "Efficiency 0.9447674418604651\n"
     ]
    },
    {
     "data": {
      "image/png": "[encoded data removed]",
      "text/plain": [
       "<Figure size 640x480 with 2 Axes>"
      ]
     },
     "metadata": {},
     "output_type": "display_data"
    }
   ],
   "source": [
    "# 0 = not papaya\n",
    "# 1 = papaya\n",
    "recon_model = keras.models.load_model(\"secondModel_Sparse.h5\")\n",
    "papaya_results=[]\n",
    "err = 0\n",
    "for i in range(1,88):\n",
    "    img = keras.preprocessing.image.load_img(\n",
    "        f'Testing/Papaya {i}.png', target_size=(img_height, img_width)\n",
    "    )\n",
    "    img_array = keras.preprocessing.image.img_to_array(img)\n",
    "    img_array = tf.expand_dims(img_array, 0) # Create a batch\n",
    "\n",
    "    predictions = recon_model.predict(img_array)\n",
    "    score = tf.nn.softmax(predictions[0])\n",
    "    papaya_results.append(class_names[np.argmax(score)])\n",
    "    \n",
    "print(papaya_results)\n",
    "\n",
    "\n",
    "not_papaya_results=[]\n",
    "for i in range(1,258):\n",
    "    img = keras.preprocessing.image.load_img(\n",
    "        f'Testing/Not Papaya/not_papaya ({i}).jpg', target_size=(img_height, img_width)\n",
    "    )\n",
    "    img_array = keras.preprocessing.image.img_to_array(img)\n",
    "    img_array = tf.expand_dims(img_array, 0) # Create a batch\n",
    "\n",
    "    predictions = recon_model.predict(img_array)\n",
    "    score = tf.nn.softmax(predictions[0])\n",
    "    not_papaya_results.append(class_names[np.argmax(score)])\n",
    "#     print(\n",
    "#         \"{}: {} with a {:.2f} percent confidence.\"\n",
    "#         .format(i,class_names[np.argmax(score)], 100 * np.max(score))\n",
    "#     )\n",
    "\n",
    "\n",
    "err = 0\n",
    "for i in papaya_results:\n",
    "    if i=='Not_Papaya':\n",
    "        err+=1\n",
    "for i in not_papaya_results:\n",
    "    if i=='Papaya':\n",
    "        err+=1\n",
    "print(err)\n",
    "print(f'Efficiency {((257+87)-err)/(257+87)}')\n",
    "\n",
    "from sklearn.metrics import ConfusionMatrixDisplay\n",
    "from sklearn.metrics import confusion_matrix\n",
    "import matplotlib.pyplot as plt\n",
    "test_result = ['Papaya']*87+['Not_Papaya']*257\n",
    "y_pred = papaya_results+not_papaya_results\n",
    "cm = confusion_matrix(test_result, y_pred)\n",
    "disp = ConfusionMatrixDisplay(confusion_matrix=cm, display_labels=class_names)\n",
    "disp.plot(cmap=plt.cm.Blues)\n",
    "plt.show()\n"
   ]
  },
  {
   "cell_type": "code",
   "execution_count": null,
   "metadata": {},
   "outputs": [],
   "source": []
  },
  {
   "cell_type": "code",
   "execution_count": 92,
   "metadata": {},
   "outputs": [],
   "source": [
    "\n",
    "# err = 0\n",
    "# for i in papaya_results:\n",
    "#     if i=='Not_Papaya':\n",
    "#         err+=1\n",
    "# for i in not_papaya_results:\n",
    "#     if i=='Papaya':\n",
    "#         err+=1\n",
    "# print(err)\n",
    "# print((257-err)/257)"
   ]
  },
  {
   "cell_type": "code",
   "execution_count": 169,
   "metadata": {},
   "outputs": [],
   "source": [
    "# model.save(\"isPapaya_round11_binary_dense64_epoch_25.h5\")"
   ]
  },
  {
   "cell_type": "code",
   "execution_count": null,
   "metadata": {},
   "outputs": [],
   "source": []
  },
  {
   "cell_type": "code",
   "execution_count": null,
   "metadata": {},
   "outputs": [],
   "source": []
  }
 ],
 "metadata": {
  "accelerator": "GPU",
  "colab": {
   "collapsed_sections": [],
   "name": "classification.ipynb",
   "toc_visible": true
  },
  "interpreter": {
   "hash": "2ccabfc3d545a186a1ecd478f0a5844fccf6ba1b64f68a02b69083b82c918d4a"
  },
  "kernelspec": {
   "display_name": "Python 3",
   "language": "python",
   "name": "python3"
  },
  "language_info": {
   "codemirror_mode": {
    "name": "ipython",
    "version": 3
   },
   "file_extension": ".py",
   "mimetype": "text/x-python",
   "name": "python",
   "nbconvert_exporter": "python",
   "pygments_lexer": "ipython3",
   "version": "3.9.6"
  }
 },
 "nbformat": 4,
 "nbformat_minor": 1
}
