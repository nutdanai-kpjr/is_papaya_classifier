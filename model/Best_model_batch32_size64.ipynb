{
 "cells": [
  {
   "cell_type": "markdown",
   "metadata": {
    "id": "FE7KNzPPVrVV"
   },
   "source": [
    "# Image classification"
   ]
  },
  {
   "cell_type": "markdown",
   "metadata": {
    "id": "zF9uvbXNVrVY"
   },
   "source": [
    "## Import libraries"
   ]
  },
  {
   "cell_type": "code",
   "execution_count": 1,
   "metadata": {
    "execution": {
     "iopub.execute_input": "2021-06-16T19:32:02.065911Z",
     "iopub.status.busy": "2021-06-16T19:32:02.065333Z",
     "iopub.status.idle": "2021-06-16T19:32:03.668090Z",
     "shell.execute_reply": "2021-06-16T19:32:03.667451Z"
    },
    "id": "L1WtoaOHVrVh"
   },
   "outputs": [],
   "source": [
    "import matplotlib.pyplot as plt\n",
    "import numpy as np\n",
    "import os\n",
    "import PIL\n",
    "import tensorflow as tf\n",
    "\n",
    "from tensorflow import keras\n",
    "from tensorflow.keras import layers\n",
    "from tensorflow.keras.models import Sequential"
   ]
  },
  {
   "cell_type": "markdown",
   "metadata": {
    "id": "xyDNn9MbIzfT"
   },
   "source": [
    "## Define some parameters for the loader:"
   ]
  },
  {
   "cell_type": "code",
   "execution_count": 2,
   "metadata": {
    "execution": {
     "iopub.execute_input": "2021-06-16T19:32:03.954602Z",
     "iopub.status.busy": "2021-06-16T19:32:03.953970Z",
     "iopub.status.idle": "2021-06-16T19:32:03.956172Z",
     "shell.execute_reply": "2021-06-16T19:32:03.955587Z"
    },
    "id": "H74l2DoDI2XD"
   },
   "outputs": [],
   "source": [
    "batch_size = 32\n",
    "img_height = 64\n",
    "img_width = 64\n",
    "num_classes = 3"
   ]
  },
  {
   "cell_type": "markdown",
   "metadata": {
    "id": "pFBhRrrEI49z"
   },
   "source": [
    "## Split Dataset (80% Training, 20% Validating)"
   ]
  },
  {
   "cell_type": "code",
   "execution_count": 3,
   "metadata": {
    "execution": {
     "iopub.execute_input": "2021-06-16T19:32:03.960239Z",
     "iopub.status.busy": "2021-06-16T19:32:03.959474Z",
     "iopub.status.idle": "2021-06-16T19:32:05.611564Z",
     "shell.execute_reply": "2021-06-16T19:32:05.611950Z"
    },
    "id": "fIR0kRZiI_AT"
   },
   "outputs": [
    {
     "name": "stdout",
     "output_type": "stream",
     "text": [
      "Found 2455 files belonging to 2 classes.\n",
      "Using 1964 files for training.\n"
     ]
    }
   ],
   "source": [
    "train_ds = tf.keras.preprocessing.image_dataset_from_directory(\n",
    "  './Training',\n",
    "  validation_split=0.2,\n",
    "  subset=\"training\",\n",
    "  seed=123,\n",
    "  image_size=(img_height, img_width),\n",
    "  batch_size=batch_size)"
   ]
  },
  {
   "cell_type": "code",
   "execution_count": 4,
   "metadata": {
    "execution": {
     "iopub.execute_input": "2021-06-16T19:32:05.616033Z",
     "iopub.status.busy": "2021-06-16T19:32:05.615361Z",
     "iopub.status.idle": "2021-06-16T19:32:05.736858Z",
     "shell.execute_reply": "2021-06-16T19:32:05.736400Z"
    },
    "id": "iscU3UoVJBXj"
   },
   "outputs": [
    {
     "name": "stdout",
     "output_type": "stream",
     "text": [
      "Found 2455 files belonging to 2 classes.\n",
      "Using 491 files for validation.\n"
     ]
    }
   ],
   "source": [
    "val_ds = tf.keras.preprocessing.image_dataset_from_directory(\n",
    "  './Training',\n",
    "  validation_split=0.2,\n",
    "  subset=\"validation\",\n",
    "  seed=123,\n",
    "  image_size=(img_height, img_width),\n",
    "  batch_size=batch_size)"
   ]
  },
  {
   "cell_type": "markdown",
   "metadata": {
    "id": "WLQULyAvJC3X"
   },
   "source": [
    "## Show class name"
   ]
  },
  {
   "cell_type": "code",
   "execution_count": 5,
   "metadata": {
    "execution": {
     "iopub.execute_input": "2021-06-16T19:32:05.740561Z",
     "iopub.status.busy": "2021-06-16T19:32:05.740000Z",
     "iopub.status.idle": "2021-06-16T19:32:05.742741Z",
     "shell.execute_reply": "2021-06-16T19:32:05.742325Z"
    },
    "id": "ZHAxkHX5JD3k"
   },
   "outputs": [
    {
     "name": "stdout",
     "output_type": "stream",
     "text": [
      "['Not_Papaya', 'Papaya']\n"
     ]
    }
   ],
   "source": [
    "class_names = train_ds.class_names\n",
    "print(class_names)"
   ]
  },
  {
   "cell_type": "markdown",
   "metadata": {
    "id": "4Dr0at41KcAU"
   },
   "source": [
    "## Configure the dataset for performance\n",
    "\n",
    "Let's make sure to use buffered prefetching so you can yield data from disk without having I/O become blocking. These are two important methods you should use when loading data.\n",
    "\n",
    "`Dataset.cache()` keeps the images in memory after they're loaded off disk during the first epoch. This will ensure the dataset does not become a bottleneck while training your model. If your dataset is too large to fit into memory, you can also use this method to create a performant on-disk cache.\n",
    "\n",
    "`Dataset.prefetch()` overlaps data preprocessing and model execution while training. \n",
    "\n",
    "Interested readers can learn more about both methods, as well as how to cache data to disk in the [data performance guide](https://www.tensorflow.org/guide/data_performance#prefetching)."
   ]
  },
  {
   "cell_type": "code",
   "execution_count": 6,
   "metadata": {
    "execution": {
     "iopub.execute_input": "2021-06-16T19:32:06.460973Z",
     "iopub.status.busy": "2021-06-16T19:32:06.460380Z",
     "iopub.status.idle": "2021-06-16T19:32:06.464389Z",
     "shell.execute_reply": "2021-06-16T19:32:06.463959Z"
    },
    "id": "nOjJSm7DKoZA"
   },
   "outputs": [],
   "source": [
    "AUTOTUNE = tf.data.AUTOTUNE\n",
    "\n",
    "train_ds = train_ds.cache().shuffle(1000).prefetch(buffer_size=AUTOTUNE)\n",
    "val_ds = val_ds.cache().prefetch(buffer_size=AUTOTUNE)"
   ]
  },
  {
   "cell_type": "markdown",
   "metadata": {
    "id": "8GUnmPF4JvEf"
   },
   "source": [
    "## Standardize the data"
   ]
  },
  {
   "cell_type": "markdown",
   "metadata": {
    "id": "e56VXHMWJxYT"
   },
   "source": [
    "The RGB channel values are in the `[0, 255]` range. This is not ideal for a neural network; in general you should seek to make your input values small. Here, you will standardize values to be in the `[0, 1]` range by using a Rescaling layer."
   ]
  },
  {
   "cell_type": "code",
   "execution_count": 7,
   "metadata": {
    "execution": {
     "iopub.execute_input": "2021-06-16T19:32:06.468403Z",
     "iopub.status.busy": "2021-06-16T19:32:06.467856Z",
     "iopub.status.idle": "2021-06-16T19:32:06.473470Z",
     "shell.execute_reply": "2021-06-16T19:32:06.473070Z"
    },
    "id": "PEYxo2CTJvY9"
   },
   "outputs": [],
   "source": [
    "normalization_layer = layers.experimental.preprocessing.Rescaling(1./255)"
   ]
  },
  {
   "cell_type": "markdown",
   "metadata": {
    "id": "8aGpkwFaIw4i"
   },
   "source": [
    "Note: The Keras Preprocessing utilities and layers introduced in this section are currently experimental and may change."
   ]
  },
  {
   "cell_type": "markdown",
   "metadata": {
    "id": "Bl4RmanbJ4g0"
   },
   "source": [
    "There are two ways to use this layer. You can apply it to the dataset by calling map:"
   ]
  },
  {
   "cell_type": "code",
   "execution_count": 8,
   "metadata": {
    "execution": {
     "iopub.execute_input": "2021-06-16T19:32:06.478349Z",
     "iopub.status.busy": "2021-06-16T19:32:06.477806Z",
     "iopub.status.idle": "2021-06-16T19:32:08.048993Z",
     "shell.execute_reply": "2021-06-16T19:32:08.049348Z"
    },
    "id": "X9o9ESaJJ502"
   },
   "outputs": [
    {
     "name": "stdout",
     "output_type": "stream",
     "text": [
      "0.048465267 0.93633586\n"
     ]
    }
   ],
   "source": [
    "normalized_ds = train_ds.map(lambda x, y: (normalization_layer(x), y))\n",
    "image_batch, labels_batch = next(iter(normalized_ds))\n",
    "first_image = image_batch[0]\n",
    "# Notice the pixels values are now in `[0,1]`.\n",
    "print(np.min(first_image), np.max(first_image)) "
   ]
  },
  {
   "cell_type": "markdown",
   "metadata": {
    "id": "XWEOmRSBJ9J8"
   },
   "source": [
    "Or, you can include the layer inside your model definition, which can simplify deployment. Let's use the second approach here."
   ]
  },
  {
   "cell_type": "markdown",
   "metadata": {
    "id": "XsRk1xCwKZR4"
   },
   "source": [
    "Note: you previously resized images using the `image_size` argument of `image_dataset_from_directory`. If you want to include the resizing logic in your model as well, you can use the [Resizing](https://www.tensorflow.org/api_docs/python/tf/keras/layers/experimental/preprocessing/Resizing) layer."
   ]
  },
  {
   "cell_type": "markdown",
   "metadata": {
    "id": "BDMfYqwmM1C-"
   },
   "source": [
    "## Data augmentation"
   ]
  },
  {
   "cell_type": "code",
   "execution_count": 9,
   "metadata": {
    "execution": {
     "iopub.execute_input": "2021-06-16T19:32:19.982221Z",
     "iopub.status.busy": "2021-06-16T19:32:19.981601Z",
     "iopub.status.idle": "2021-06-16T19:32:20.088707Z",
     "shell.execute_reply": "2021-06-16T19:32:20.089063Z"
    },
    "id": "9J80BAbIMs21"
   },
   "outputs": [],
   "source": [
    "data_augmentation = keras.Sequential(\n",
    "  [\n",
    "    layers.experimental.preprocessing.RandomFlip(\"horizontal\", \n",
    "                                                 input_shape=(img_height, \n",
    "                                                              img_width,\n",
    "                                                              3)),\n",
    "    layers.experimental.preprocessing.RandomRotation(0.1),\n",
    "    layers.experimental.preprocessing.RandomZoom(0.1),\n",
    "  ]\n",
    ")"
   ]
  },
  {
   "cell_type": "markdown",
   "metadata": {
    "id": "ZeD3bXepYKXs"
   },
   "source": [
    "## Build model"
   ]
  },
  {
   "cell_type": "code",
   "execution_count": 23,
   "metadata": {
    "execution": {
     "iopub.execute_input": "2021-06-16T19:32:20.661411Z",
     "iopub.status.busy": "2021-06-16T19:32:20.660779Z",
     "iopub.status.idle": "2021-06-16T19:32:20.798914Z",
     "shell.execute_reply": "2021-06-16T19:32:20.798478Z"
    },
    "id": "2Zeg8zsqXCsm"
   },
   "outputs": [],
   "source": [
    "model = Sequential([\n",
    "  data_augmentation,\n",
    "  layers.experimental.preprocessing.Rescaling(1./255),\n",
    "  layers.Conv2D(16, 3, padding='same', activation='relu'),\n",
    "  layers.MaxPooling2D(),\n",
    "  layers.Conv2D(32, 3, padding='same', activation='relu'),\n",
    "  layers.MaxPooling2D(),\n",
    "  layers.Conv2D(64, 3, padding='same', activation='relu'),\n",
    "  layers.MaxPooling2D(),\n",
    "  layers.Dropout(0.2),\n",
    "  layers.Flatten(),\n",
    "  layers.Dense(128, activation='relu'),\n",
    "  layers.Dense(num_classes)\n",
    "])"
   ]
  },
  {
   "cell_type": "markdown",
   "metadata": {
    "id": "L4nEcuqgZLbi"
   },
   "source": [
    "## Compile and train the model"
   ]
  },
  {
   "cell_type": "code",
   "execution_count": 24,
   "metadata": {
    "execution": {
     "iopub.execute_input": "2021-06-16T19:32:20.804866Z",
     "iopub.status.busy": "2021-06-16T19:32:20.804298Z",
     "iopub.status.idle": "2021-06-16T19:32:20.807628Z",
     "shell.execute_reply": "2021-06-16T19:32:20.807976Z"
    },
    "id": "EvyAINs9ZOmJ"
   },
   "outputs": [],
   "source": [
    "model.compile(optimizer='adam',\n",
    "              loss=tf.keras.losses.SparseCategoricalCrossentropy(from_logits=True),\n",
    "              metrics=['accuracy'])"
   ]
  },
  {
   "cell_type": "code",
   "execution_count": 12,
   "metadata": {
    "execution": {
     "iopub.execute_input": "2021-06-16T19:32:20.812402Z",
     "iopub.status.busy": "2021-06-16T19:32:20.811772Z",
     "iopub.status.idle": "2021-06-16T19:32:20.816634Z",
     "shell.execute_reply": "2021-06-16T19:32:20.816236Z"
    },
    "id": "wWLkKoKjZSoC"
   },
   "outputs": [
    {
     "name": "stdout",
     "output_type": "stream",
     "text": [
      "Model: \"sequential_1\"\n",
      "_________________________________________________________________\n",
      "Layer (type)                 Output Shape              Param #   \n",
      "=================================================================\n",
      "sequential (Sequential)      (None, 64, 64, 3)         0         \n",
      "_________________________________________________________________\n",
      "rescaling_1 (Rescaling)      (None, 64, 64, 3)         0         \n",
      "_________________________________________________________________\n",
      "conv2d (Conv2D)              (None, 64, 64, 32)        896       \n",
      "_________________________________________________________________\n",
      "max_pooling2d (MaxPooling2D) (None, 32, 32, 32)        0         \n",
      "_________________________________________________________________\n",
      "conv2d_1 (Conv2D)            (None, 32, 32, 64)        18496     \n",
      "_________________________________________________________________\n",
      "max_pooling2d_1 (MaxPooling2 (None, 16, 16, 64)        0         \n",
      "_________________________________________________________________\n",
      "dropout (Dropout)            (None, 16, 16, 64)        0         \n",
      "_________________________________________________________________\n",
      "flatten (Flatten)            (None, 16384)             0         \n",
      "_________________________________________________________________\n",
      "dense (Dense)                (None, 128)               2097280   \n",
      "_________________________________________________________________\n",
      "dense_1 (Dense)              (None, 3)                 387       \n",
      "=================================================================\n",
      "Total params: 2,117,059\n",
      "Trainable params: 2,117,059\n",
      "Non-trainable params: 0\n",
      "_________________________________________________________________\n"
     ]
    }
   ],
   "source": [
    "model.summary()"
   ]
  },
  {
   "cell_type": "code",
   "execution_count": 25,
   "metadata": {
    "execution": {
     "iopub.execute_input": "2021-06-16T19:32:20.820691Z",
     "iopub.status.busy": "2021-06-16T19:32:20.820028Z",
     "iopub.status.idle": "2021-06-16T19:32:36.648463Z",
     "shell.execute_reply": "2021-06-16T19:32:36.648034Z"
    },
    "id": "LWS-vvNaZDag",
    "scrolled": true
   },
   "outputs": [
    {
     "name": "stdout",
     "output_type": "stream",
     "text": [
      "Epoch 1/20\n",
      "62/62 [==============================] - 4s 60ms/step - loss: 0.3457 - accuracy: 0.8483 - val_loss: 0.1771 - val_accuracy: 0.9348\n",
      "Epoch 2/20\n",
      "62/62 [==============================] - 4s 57ms/step - loss: 0.2460 - accuracy: 0.9119 - val_loss: 0.4095 - val_accuracy: 0.8921\n",
      "Epoch 3/20\n",
      "62/62 [==============================] - 4s 57ms/step - loss: 0.2132 - accuracy: 0.9175 - val_loss: 0.1718 - val_accuracy: 0.9430\n",
      "Epoch 4/20\n",
      "62/62 [==============================] - 4s 57ms/step - loss: 0.1892 - accuracy: 0.9292 - val_loss: 0.2573 - val_accuracy: 0.9165\n",
      "Epoch 5/20\n",
      "62/62 [==============================] - 4s 58ms/step - loss: 0.1980 - accuracy: 0.9236 - val_loss: 0.1881 - val_accuracy: 0.9287\n",
      "Epoch 6/20\n",
      "62/62 [==============================] - 4s 58ms/step - loss: 0.1889 - accuracy: 0.9297 - val_loss: 0.1841 - val_accuracy: 0.9491\n",
      "Epoch 7/20\n",
      "62/62 [==============================] - 4s 59ms/step - loss: 0.1688 - accuracy: 0.9414 - val_loss: 0.1463 - val_accuracy: 0.9532\n",
      "Epoch 8/20\n",
      "62/62 [==============================] - 4s 59ms/step - loss: 0.1710 - accuracy: 0.9358 - val_loss: 0.1610 - val_accuracy: 0.9470\n",
      "Epoch 9/20\n",
      "62/62 [==============================] - 4s 59ms/step - loss: 0.1571 - accuracy: 0.9430 - val_loss: 0.1693 - val_accuracy: 0.9450\n",
      "Epoch 10/20\n",
      "62/62 [==============================] - 4s 60ms/step - loss: 0.1556 - accuracy: 0.9414 - val_loss: 0.2277 - val_accuracy: 0.9267\n",
      "Epoch 11/20\n",
      "62/62 [==============================] - 4s 61ms/step - loss: 0.1454 - accuracy: 0.9465 - val_loss: 0.2121 - val_accuracy: 0.9450\n",
      "Epoch 12/20\n",
      "62/62 [==============================] - 4s 60ms/step - loss: 0.1420 - accuracy: 0.9486 - val_loss: 0.1484 - val_accuracy: 0.9593\n",
      "Epoch 13/20\n",
      "62/62 [==============================] - 4s 60ms/step - loss: 0.1491 - accuracy: 0.9470 - val_loss: 0.1432 - val_accuracy: 0.9491\n",
      "Epoch 14/20\n",
      "62/62 [==============================] - 4s 60ms/step - loss: 0.1316 - accuracy: 0.9526 - val_loss: 0.1552 - val_accuracy: 0.9593\n",
      "Epoch 15/20\n",
      "62/62 [==============================] - 4s 61ms/step - loss: 0.1365 - accuracy: 0.9516 - val_loss: 0.1916 - val_accuracy: 0.9369\n",
      "Epoch 16/20\n",
      "62/62 [==============================] - 4s 59ms/step - loss: 0.1224 - accuracy: 0.9526 - val_loss: 0.2103 - val_accuracy: 0.9389\n",
      "Epoch 17/20\n",
      "62/62 [==============================] - 4s 60ms/step - loss: 0.1554 - accuracy: 0.9430 - val_loss: 0.1385 - val_accuracy: 0.9491\n",
      "Epoch 18/20\n",
      "62/62 [==============================] - 4s 59ms/step - loss: 0.1240 - accuracy: 0.9562 - val_loss: 0.1585 - val_accuracy: 0.9532\n",
      "Epoch 19/20\n",
      "62/62 [==============================] - 4s 61ms/step - loss: 0.1293 - accuracy: 0.9537 - val_loss: 0.1673 - val_accuracy: 0.9470\n",
      "Epoch 20/20\n",
      "62/62 [==============================] - 4s 59ms/step - loss: 0.1144 - accuracy: 0.9552 - val_loss: 0.1448 - val_accuracy: 0.9450\n"
     ]
    }
   ],
   "source": [
    "epochs = 20\n",
    "history = model.fit(\n",
    "  train_ds,\n",
    "  validation_data=val_ds,\n",
    "  epochs=epochs\n",
    ")"
   ]
  },
  {
   "cell_type": "markdown",
   "metadata": {
    "id": "Lkdl8VsBbZOu"
   },
   "source": [
    "## Visualize training results\n",
    "\n",
    "After applying data augmentation and Dropout, there is less overfitting than before, and training and validation accuracy are closer aligned. "
   ]
  },
  {
   "cell_type": "code",
   "execution_count": 26,
   "metadata": {
    "execution": {
     "iopub.execute_input": "2021-06-16T19:32:36.685578Z",
     "iopub.status.busy": "2021-06-16T19:32:36.670192Z",
     "iopub.status.idle": "2021-06-16T19:32:36.865510Z",
     "shell.execute_reply": "2021-06-16T19:32:36.865083Z"
    },
    "id": "dduoLfKsZVIA"
   },
   "outputs": [
    {
     "data": {
      "image/png": "[encoded data removed]",
      "text/plain": [
       "<Figure size 576x576 with 2 Axes>"
      ]
     },
     "metadata": {
      "needs_background": "light"
     },
     "output_type": "display_data"
    }
   ],
   "source": [
    "acc = history.history['accuracy']\n",
    "val_acc = history.history['val_accuracy']\n",
    "\n",
    "loss = history.history['loss']\n",
    "val_loss = history.history['val_loss']\n",
    "\n",
    "epochs_range = range(epochs)\n",
    "\n",
    "plt.figure(figsize=(8, 8))\n",
    "plt.subplot(1, 2, 1)\n",
    "plt.plot(epochs_range, acc, label='Training Accuracy')\n",
    "plt.plot(epochs_range, val_acc, label='Validation Accuracy')\n",
    "plt.legend(loc='lower right')\n",
    "plt.title('Training and Validation Accuracy')\n",
    "\n",
    "plt.subplot(1, 2, 2)\n",
    "plt.plot(epochs_range, loss, label='Training Loss')\n",
    "plt.plot(epochs_range, val_loss, label='Validation Loss')\n",
    "plt.legend(loc='upper right')\n",
    "plt.title('Training and Validation Loss')\n",
    "plt.show()"
   ]
  },
  {
   "cell_type": "markdown",
   "metadata": {
    "id": "dtv5VbaVb-3W"
   },
   "source": [
    "## Predict on new data"
   ]
  },
  {
   "cell_type": "markdown",
   "metadata": {
    "id": "10buWpJbcCQz"
   },
   "source": [
    "Finally, let's use our model to classify an image that wasn't included in the training or validation sets."
   ]
  },
  {
   "cell_type": "markdown",
   "metadata": {
    "id": "NKgMZ4bDcHf7"
   },
   "source": [
    "Note: Data augmentation and Dropout layers are inactive at inference time."
   ]
  },
  {
   "cell_type": "code",
   "execution_count": 32,
   "metadata": {
    "execution": {
     "iopub.execute_input": "2021-06-16T19:32:36.872224Z",
     "iopub.status.busy": "2021-06-16T19:32:36.871628Z",
     "iopub.status.idle": "2021-06-16T19:32:37.188776Z",
     "shell.execute_reply": "2021-06-16T19:32:37.189152Z"
    },
    "id": "dC40sRITBSsQ"
   },
   "outputs": [
    {
     "name": "stdout",
     "output_type": "stream",
     "text": [
      "1: Papaya\n",
      "2: Papaya\n",
      "3: Papaya\n",
      "4: Papaya\n",
      "5: Not_Papaya\n",
      "6: Papaya\n",
      "7: Papaya\n",
      "8: Papaya\n",
      "9: Papaya\n",
      "10: Papaya\n",
      "11: Not_Papaya\n",
      "12: Papaya\n",
      "13: Papaya\n",
      "14: Papaya\n",
      "15: Papaya\n",
      "16: Not_Papaya\n",
      "17: Papaya\n",
      "18: Papaya\n",
      "19: Papaya\n",
      "20: Papaya\n",
      "21: Not_Papaya\n",
      "22: Papaya\n",
      "23: Papaya\n",
      "24: Papaya\n",
      "25: Not_Papaya\n",
      "26: Papaya\n",
      "27: Papaya\n",
      "28: Papaya\n",
      "29: Papaya\n",
      "30: Papaya\n",
      "31: Papaya\n",
      "32: Papaya\n",
      "33: Papaya\n",
      "34: Not_Papaya\n",
      "35: Papaya\n",
      "36: Papaya\n",
      "37: Papaya\n",
      "38: Not_Papaya\n",
      "39: Papaya\n",
      "40: Papaya\n",
      "41: Papaya\n",
      "42: Papaya\n",
      "43: Papaya\n",
      "44: Papaya\n",
      "45: Papaya\n",
      "46: Papaya\n",
      "47: Papaya\n",
      "48: Papaya\n",
      "49: Papaya\n",
      "50: Papaya\n",
      "51: Not_Papaya\n",
      "52: Not_Papaya\n",
      "53: Not_Papaya\n",
      "54: Papaya\n",
      "55: Papaya\n",
      "56: Papaya\n",
      "57: Papaya\n",
      "58: Papaya\n",
      "59: Papaya\n",
      "60: Papaya\n",
      "61: Papaya\n",
      "62: Papaya\n",
      "63: Papaya\n",
      "64: Papaya\n",
      "65: Papaya\n",
      "66: Papaya\n",
      "67: Papaya\n",
      "68: Papaya\n",
      "69: Papaya\n",
      "70: Papaya\n",
      "71: Papaya\n",
      "72: Papaya\n",
      "73: Papaya\n",
      "74: Papaya\n",
      "75: Papaya\n",
      "76: Papaya\n",
      "77: Papaya\n",
      "78: Papaya\n",
      "79: Not_Papaya\n",
      "80: Papaya\n",
      "81: Papaya\n",
      "82: Papaya\n",
      "83: Papaya\n",
      "84: Not_Papaya\n",
      "85: Papaya\n",
      "86: Papaya\n",
      "87: Papaya\n"
     ]
    }
   ],
   "source": [
    "papaya_results=[]\n",
    "for i in range(1,88):\n",
    "    img = keras.preprocessing.image.load_img(\n",
    "        f'Testing/Papaya {i}.png', target_size=(img_height, img_width)\n",
    "    )\n",
    "    img_array = keras.preprocessing.image.img_to_array(img)\n",
    "    img_array = tf.expand_dims(img_array, 0) # Create a batch\n",
    "\n",
    "    predictions = model.predict(img_array)\n",
    "    score = tf.nn.softmax(predictions[0])\n",
    "    \n",
    "    print(f\"{i}: {class_names[np.argmax(score)]}\")\n",
    "    papaya_results.append(class_names[np.argmax(score)])\n",
    "    \n",
    "# print(papaya_results)\n",
    "#     print(\n",
    "#         \"{}: {} with a {:.2f} percent confidence.\"\n",
    "#         .format(i,class_names[np.argmax(score)], 100 * np.max(score))\n",
    "#     )"
   ]
  },
  {
   "cell_type": "code",
   "execution_count": 33,
   "metadata": {},
   "outputs": [
    {
     "name": "stdout",
     "output_type": "stream",
     "text": [
      "['Not_Papaya', 'Not_Papaya', 'Not_Papaya', 'Not_Papaya', 'Not_Papaya', 'Not_Papaya', 'Not_Papaya', 'Not_Papaya', 'Not_Papaya', 'Not_Papaya', 'Not_Papaya', 'Not_Papaya', 'Not_Papaya', 'Not_Papaya', 'Not_Papaya', 'Not_Papaya', 'Not_Papaya', 'Not_Papaya', 'Not_Papaya', 'Not_Papaya', 'Not_Papaya', 'Not_Papaya', 'Not_Papaya', 'Not_Papaya', 'Not_Papaya', 'Not_Papaya', 'Not_Papaya', 'Not_Papaya', 'Not_Papaya', 'Not_Papaya', 'Not_Papaya', 'Not_Papaya', 'Not_Papaya', 'Not_Papaya', 'Not_Papaya', 'Not_Papaya', 'Not_Papaya', 'Not_Papaya', 'Not_Papaya', 'Not_Papaya', 'Not_Papaya', 'Not_Papaya', 'Not_Papaya', 'Not_Papaya', 'Not_Papaya', 'Not_Papaya', 'Not_Papaya', 'Not_Papaya', 'Not_Papaya', 'Not_Papaya', 'Not_Papaya', 'Not_Papaya', 'Not_Papaya', 'Not_Papaya', 'Not_Papaya', 'Not_Papaya', 'Not_Papaya', 'Not_Papaya', 'Not_Papaya', 'Not_Papaya', 'Not_Papaya', 'Not_Papaya', 'Not_Papaya', 'Not_Papaya', 'Not_Papaya', 'Not_Papaya', 'Not_Papaya', 'Not_Papaya', 'Not_Papaya', 'Not_Papaya', 'Not_Papaya', 'Not_Papaya', 'Not_Papaya', 'Not_Papaya', 'Not_Papaya', 'Not_Papaya', 'Not_Papaya', 'Not_Papaya', 'Not_Papaya', 'Not_Papaya', 'Not_Papaya', 'Not_Papaya', 'Not_Papaya', 'Not_Papaya', 'Not_Papaya', 'Not_Papaya', 'Not_Papaya', 'Not_Papaya', 'Not_Papaya', 'Not_Papaya', 'Not_Papaya', 'Not_Papaya', 'Not_Papaya', 'Not_Papaya', 'Not_Papaya', 'Not_Papaya', 'Not_Papaya', 'Not_Papaya', 'Not_Papaya', 'Not_Papaya', 'Not_Papaya', 'Not_Papaya', 'Not_Papaya', 'Not_Papaya', 'Not_Papaya', 'Not_Papaya', 'Not_Papaya', 'Not_Papaya', 'Not_Papaya', 'Not_Papaya', 'Not_Papaya', 'Not_Papaya', 'Not_Papaya', 'Not_Papaya', 'Not_Papaya', 'Not_Papaya', 'Not_Papaya', 'Not_Papaya', 'Not_Papaya', 'Not_Papaya', 'Not_Papaya', 'Not_Papaya', 'Not_Papaya', 'Not_Papaya', 'Not_Papaya', 'Not_Papaya', 'Not_Papaya', 'Not_Papaya', 'Not_Papaya', 'Not_Papaya', 'Not_Papaya', 'Not_Papaya', 'Not_Papaya', 'Not_Papaya', 'Not_Papaya', 'Not_Papaya', 'Not_Papaya', 'Not_Papaya', 'Not_Papaya', 'Not_Papaya', 'Not_Papaya', 'Not_Papaya', 'Not_Papaya', 'Not_Papaya', 'Not_Papaya', 'Not_Papaya', 'Not_Papaya', 'Not_Papaya', 'Not_Papaya', 'Not_Papaya', 'Not_Papaya', 'Not_Papaya', 'Not_Papaya', 'Not_Papaya', 'Not_Papaya', 'Not_Papaya', 'Not_Papaya', 'Not_Papaya', 'Not_Papaya', 'Not_Papaya', 'Not_Papaya', 'Not_Papaya', 'Not_Papaya', 'Not_Papaya', 'Not_Papaya', 'Not_Papaya', 'Not_Papaya', 'Not_Papaya', 'Not_Papaya', 'Not_Papaya', 'Not_Papaya', 'Not_Papaya', 'Not_Papaya', 'Not_Papaya', 'Not_Papaya', 'Not_Papaya', 'Not_Papaya', 'Not_Papaya', 'Not_Papaya', 'Not_Papaya', 'Not_Papaya', 'Not_Papaya', 'Not_Papaya', 'Not_Papaya', 'Not_Papaya', 'Not_Papaya', 'Not_Papaya', 'Not_Papaya', 'Not_Papaya', 'Not_Papaya', 'Not_Papaya', 'Not_Papaya', 'Not_Papaya', 'Not_Papaya', 'Not_Papaya', 'Not_Papaya', 'Not_Papaya', 'Not_Papaya', 'Not_Papaya', 'Not_Papaya', 'Not_Papaya', 'Not_Papaya', 'Not_Papaya', 'Not_Papaya', 'Not_Papaya', 'Not_Papaya', 'Not_Papaya', 'Not_Papaya', 'Not_Papaya', 'Not_Papaya', 'Not_Papaya', 'Not_Papaya', 'Not_Papaya', 'Not_Papaya', 'Not_Papaya', 'Not_Papaya', 'Not_Papaya', 'Not_Papaya', 'Not_Papaya', 'Not_Papaya', 'Papaya', 'Not_Papaya', 'Not_Papaya', 'Not_Papaya', 'Not_Papaya', 'Not_Papaya', 'Not_Papaya', 'Not_Papaya', 'Not_Papaya', 'Not_Papaya', 'Not_Papaya', 'Not_Papaya', 'Not_Papaya', 'Not_Papaya', 'Not_Papaya', 'Not_Papaya', 'Not_Papaya', 'Not_Papaya', 'Not_Papaya', 'Not_Papaya', 'Not_Papaya', 'Not_Papaya', 'Not_Papaya', 'Not_Papaya', 'Not_Papaya', 'Not_Papaya', 'Not_Papaya', 'Not_Papaya', 'Not_Papaya', 'Not_Papaya', 'Not_Papaya', 'Not_Papaya', 'Not_Papaya', 'Not_Papaya', 'Not_Papaya', 'Not_Papaya', 'Not_Papaya']\n"
     ]
    }
   ],
   "source": [
    "not_papaya_results=[]\n",
    "for i in range(1,258):\n",
    "    img = keras.preprocessing.image.load_img(\n",
    "        f'Testing/Not Papaya/not_papaya ({i}).jpg', target_size=(img_height, img_width)\n",
    "    )\n",
    "    img_array = keras.preprocessing.image.img_to_array(img)\n",
    "    img_array = tf.expand_dims(img_array, 0) # Create a batch\n",
    "\n",
    "    predictions = model.predict(img_array)\n",
    "    score = tf.nn.softmax(predictions[0])\n",
    "    \n",
    "    not_papaya_results.append(class_names[np.argmax(score)])\n",
    "#     print(\n",
    "#         \"{}: {} with a {:.2f} percent confidence.\"\n",
    "#         .format(i,class_names[np.argmax(score)], 100 * np.max(score))\n",
    "#     )\n",
    "\n",
    "print(not_papaya_results)"
   ]
  },
  {
   "cell_type": "code",
   "execution_count": 34,
   "metadata": {},
   "outputs": [
    {
     "name": "stdout",
     "output_type": "stream",
     "text": [
      "13\n"
     ]
    }
   ],
   "source": [
    "err = 0\n",
    "for i in papaya_results:\n",
    "    if i=='Not_Papaya':\n",
    "        err+=1\n",
    "for i in not_papaya_results:\n",
    "    if i=='Papaya':\n",
    "        err+=1\n",
    "print(err)"
   ]
  },
  {
   "cell_type": "code",
   "execution_count": 35,
   "metadata": {},
   "outputs": [],
   "source": [
    "model.save(\"isPapaya_round4_13_mispapaya.h5\")"
   ]
  },
  {
   "cell_type": "code",
   "execution_count": null,
   "metadata": {},
   "outputs": [],
   "source": []
  }
 ],
 "metadata": {
  "accelerator": "GPU",
  "colab": {
   "collapsed_sections": [],
   "name": "classification.ipynb",
   "toc_visible": true
  },
  "interpreter": {
   "hash": "2ccabfc3d545a186a1ecd478f0a5844fccf6ba1b64f68a02b69083b82c918d4a"
  },
  "kernelspec": {
   "display_name": "Python 3",
   "language": "python",
   "name": "python3"
  },
  "language_info": {
   "codemirror_mode": {
    "name": "ipython",
    "version": 3
   },
   "file_extension": ".py",
   "mimetype": "text/x-python",
   "name": "python",
   "nbconvert_exporter": "python",
   "pygments_lexer": "ipython3",
   "version": "3.8.8"
  }
 },
 "nbformat": 4,
 "nbformat_minor": 1
}
